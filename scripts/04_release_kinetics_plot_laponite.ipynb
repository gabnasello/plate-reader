{
 "cells": [
  {
   "cell_type": "markdown",
   "id": "4c621d47-b476-4926-8c77-106256ada486",
   "metadata": {},
   "source": [
    "<span STYLE=\"font-size:150%\"> \n",
    "    Plot drug release parameters\n",
    "</span>\n",
    "\n",
    "Docker image: gnasello/datascience-env:2023-01-27 \\\n",
    "Latest update: 20 March 2023"
   ]
  },
  {
   "cell_type": "markdown",
   "id": "f894c86c-d9e0-4a63-85dd-312b2e1d1017",
   "metadata": {},
   "source": [
    "# Install packages"
   ]
  },
  {
   "cell_type": "code",
   "execution_count": null,
   "id": "9391ea1a-9ec1-478b-b5e0-f5aa8d11f692",
   "metadata": {
    "tags": [],
    "vscode": {
     "languageId": "r"
    }
   },
   "outputs": [],
   "source": [
    "# Install from CRAN\n",
    "install.packages(\"investr\", dep = TRUE)"
   ]
  },
  {
   "cell_type": "markdown",
   "id": "79b91dd5-87da-4973-878c-a17ff61db39c",
   "metadata": {},
   "source": [
    "# Load libraries"
   ]
  },
  {
   "cell_type": "code",
   "execution_count": null,
   "id": "80a8c92e-b09a-4051-a116-2aa23f69084d",
   "metadata": {
    "tags": [],
    "vscode": {
     "languageId": "r"
    }
   },
   "outputs": [],
   "source": [
    "library(reshape2)\n",
    "library(stringr)\n",
    "library(ggplot2)\n",
    "library(dplyr)\n",
    "library(investr)\n",
    "library(ggpubr)\n",
    "library(latex2exp)"
   ]
  },
  {
   "cell_type": "markdown",
   "id": "9d5cb6dd-9147-40a1-ba48-5dfc04fe0b24",
   "metadata": {},
   "source": [
    "How to Reuse Functions That You Create In Scripts, [tutorial](https://www.earthdatascience.org/courses/earth-analytics/multispectral-remote-sensing-data/source-function-in-R/)"
   ]
  },
  {
   "cell_type": "code",
   "execution_count": null,
   "id": "14b84da1-4e1b-442c-85e7-36bbe2808069",
   "metadata": {
    "tags": [],
    "vscode": {
     "languageId": "r"
    }
   },
   "outputs": [],
   "source": [
    "source(\"r_utils/ggplot_utils.R\")\n",
    "source(\"r_utils/stats_utils.R\")"
   ]
  },
  {
   "cell_type": "code",
   "execution_count": null,
   "id": "310592c2-cf79-48ba-8cec-22665471502c",
   "metadata": {
    "tags": [],
    "vscode": {
     "languageId": "r"
    }
   },
   "outputs": [],
   "source": [
    "filename <-  \"2023-03-28_GN011_data.csv\"\n",
    "drugname <- 'AS2863619'"
   ]
  },
  {
   "cell_type": "code",
   "execution_count": null,
   "id": "8397c4a7-088a-4147-b7a6-b4a61af234a8",
   "metadata": {
    "tags": [],
    "vscode": {
     "languageId": "r"
    }
   },
   "outputs": [],
   "source": [
    "# Import the data and look at the first six rows\n",
    "df <- read.csv(file = filename)\n",
    "head(df)"
   ]
  },
  {
   "cell_type": "markdown",
   "id": "81191d71-9bbe-46b7-9874-039c3e770afb",
   "metadata": {},
   "source": [
    "## Drop samples 4s"
   ]
  },
  {
   "cell_type": "markdown",
   "id": "171af2ea-c853-4df4-bf28-14d3cc6a3824",
   "metadata": {},
   "source": [
    "These samples were removed becauase they were smaller than all the others.\n",
    "\n",
    "[Remove Row by Multiple Condition](https://www.geeksforgeeks.org/how-to-conditionally-remove-rows-in-r-dataframe/)"
   ]
  },
  {
   "cell_type": "code",
   "execution_count": null,
   "id": "588489e5-a890-479d-9ccb-9a56e864e4fd",
   "metadata": {
    "tags": [],
    "vscode": {
     "languageId": "r"
    }
   },
   "outputs": [],
   "source": [
    "df <- subset(df, df$sample != 4)\n",
    "head(df)"
   ]
  },
  {
   "cell_type": "markdown",
   "id": "dd2f7fa9-c5b5-4254-96d4-e461bd713314",
   "metadata": {},
   "source": [
    "## Drop samples 6-AS"
   ]
  },
  {
   "cell_type": "code",
   "execution_count": null,
   "id": "cf77932e-e900-4af1-8324-a94361188e2a",
   "metadata": {
    "tags": [],
    "vscode": {
     "languageId": "r"
    }
   },
   "outputs": [],
   "source": [
    "df <- subset(df, df$group != '6-AS' )\n",
    "head(df)"
   ]
  },
  {
   "cell_type": "markdown",
   "id": "3c79df7f-f1db-44d7-8b81-588a4a09d680",
   "metadata": {},
   "source": [
    "## Summarize the data"
   ]
  },
  {
   "cell_type": "markdown",
   "id": "8029f0fe-935e-4851-989f-f73f2fffb5d6",
   "metadata": {},
   "source": [
    "The function below will be used to calculate the mean and the standard deviation, for the variable of interest, in each group. See [tutorial](http://www.sthda.com/english/wiki/ggplot2-line-plot-quick-start-guide-r-software-and-data-visualization#line-graph-with-error-bars)"
   ]
  },
  {
   "cell_type": "code",
   "execution_count": null,
   "id": "23adb7a8-e937-446f-a829-08cc2a8c53d6",
   "metadata": {
    "tags": [],
    "vscode": {
     "languageId": "r"
    }
   },
   "outputs": [],
   "source": [
    "df1 <- data_summary(df, varname=\"cum_sum\", \n",
    "                    groupnames=c(\"group\", \"day\", \"Laponite\"))\n",
    "df1"
   ]
  },
  {
   "cell_type": "markdown",
   "id": "cac319ad-ae99-43dc-856e-ea4f837dee82",
   "metadata": {
    "tags": []
   },
   "source": [
    "# Plot release kinetics curve"
   ]
  },
  {
   "cell_type": "markdown",
   "id": "e42c3dc9-e484-42e6-b96c-a23daaeffaa0",
   "metadata": {},
   "source": [
    "## Line plot"
   ]
  },
  {
   "cell_type": "code",
   "execution_count": null,
   "id": "b87bb18b-64dd-47d1-9f33-816a28bed614",
   "metadata": {
    "tags": [],
    "vscode": {
     "languageId": "r"
    }
   },
   "outputs": [],
   "source": [
    "p <- ggplot(df1, aes(x=day, y=cum_sum, group=group, color=group)) + \n",
    "            geom_errorbar(aes(ymin=cum_sum-sd, ymax=cum_sum+sd), width=.5, size=0.8) +\n",
    "            geom_line(size=1) + geom_point(size=1.25)\n",
    "\n",
    "img <- ggplotMinAethetics(p, width=5, height=3.25,\n",
    "                          title=drugname,\n",
    "                          xlabel='Time (Days)', \n",
    "                          ylabel='Cumulative release (%)', \n",
    "                          scale_color='npg') + ylim(0, 101)+ \n",
    "        scale_color_discrete(labels=c('- Laponite', '+ Laponite'), name = '')\n",
    "img"
   ]
  },
  {
   "cell_type": "markdown",
   "id": "9f0de3fd-060c-4eda-8045-d6deab0a17d4",
   "metadata": {
    "tags": []
   },
   "source": [
    "## Regression model"
   ]
  },
  {
   "cell_type": "code",
   "execution_count": null,
   "id": "870cee80-d52a-456f-9d48-8e805e5b8b25",
   "metadata": {
    "tags": [],
    "vscode": {
     "languageId": "r"
    }
   },
   "outputs": [],
   "source": [
    "p <- ggplot(df, aes(x = day, y = cum_sum, color=group, fill = group)) + \n",
    "     geom_point(size = 3, alpha=0.7)+\n",
    "     geom_smooth(method = lm, formula = y ~ log(x+1), alpha=0.1)\n",
    "\n",
    "img <- ggplotMinAethetics(p, width=5, height=3.25,\n",
    "                          title=drugname,\n",
    "                          xlabel='Time (Days)', \n",
    "                          ylabel='Cumulative release (%)', \n",
    "                          scale_color='npg'\n",
    "                         ) + ylim(0, 101)+ \n",
    "        scale_color_discrete(labels=c('- Laponite', '+ Laponite'), name = '')+\n",
    "        scale_fill_discrete(labels=c('- Laponite', '+ Laponite'), name = '')\n",
    "img"
   ]
  },
  {
   "cell_type": "markdown",
   "id": "9c21d1c6-3cb1-4be9-b5b0-f831fd77c37c",
   "metadata": {
    "tags": []
   },
   "source": [
    "# Get drug release parameters"
   ]
  },
  {
   "cell_type": "markdown",
   "id": "2d4e425e-beb9-4e97-a5c7-03dd482b9e90",
   "metadata": {},
   "source": [
    "## Logarithmic regression"
   ]
  },
  {
   "cell_type": "markdown",
   "id": "9d11376f-5f77-4f54-9a7f-b4436f89aab7",
   "metadata": {
    "tags": []
   },
   "source": [
    "Linear Regression and group by in R, [stackoverflow](https://stackoverflow.com/questions/1169539/linear-regression-and-group-by-in-r)\n",
    "\n",
    "[`plotFit`](https://www.rdocumentation.org/packages/investr/versions/1.4.2/topics/plotFit): Plotting fitted models"
   ]
  },
  {
   "cell_type": "code",
   "execution_count": null,
   "id": "d5932c37-0689-4253-9d44-e820c1e50663",
   "metadata": {
    "tags": [],
    "vscode": {
     "languageId": "r"
    }
   },
   "outputs": [],
   "source": [
    "group_regress <- function(data){\n",
    "       \n",
    "    model = lm(cum_sum~log(day+1), data=data)\n",
    "    \n",
    "    plotFit(model, data = data,\n",
    "            lwd.fit = 2, cex = 1.2, pch = 21, bg = \"lightskyblue\", \n",
    "            lwd = 2, xlab = \"Log dose\", ylab = \"Probability\",\n",
    "            ylim=c(0,105), xlim=c(0,5)\n",
    "           )\n",
    "    \n",
    "    print(data$group[1])\n",
    "    \n",
    "    model\n",
    "    \n",
    "    }\n",
    "\n",
    "#fit log model\n",
    "fitted_models <- df %>% \n",
    "                    group_by(group) %>% \n",
    "                        do( model = group_regress(data=.))"
   ]
  },
  {
   "cell_type": "markdown",
   "id": "b3ca10b7-3508-4977-9a33-1cb0b6af4778",
   "metadata": {},
   "source": [
    "## Burst release\n",
    "\n",
    "It is determined by the drug release fraction at 24 hours"
   ]
  },
  {
   "cell_type": "code",
   "execution_count": null,
   "id": "d0814797-8157-4e49-a7d0-bea38fa8ee9e",
   "metadata": {
    "tags": [],
    "vscode": {
     "languageId": "r"
    }
   },
   "outputs": [],
   "source": [
    "k_df <- data.frame(matrix(ncol = 3, nrow = 0))\n",
    "\n",
    "for(i in 1:nrow(fitted_models)) {       # for-loop over rows\n",
    "    \n",
    "    k <- predict(fitted_models$model[[i]], data.frame(day = 1), interval = \"confidence\")\n",
    "    \n",
    "    k_df <- rbind(k_df, k)\n",
    "\n",
    "}\n",
    "\n",
    "rownames(k_df) <- NULL\n",
    "k_df['group'] <- fitted_models['group']\n",
    "\n",
    "k_df"
   ]
  },
  {
   "cell_type": "markdown",
   "id": "b5798eb8-740e-437d-89da-c7ede8ee108e",
   "metadata": {},
   "source": [
    "Plot burst release parameter"
   ]
  },
  {
   "cell_type": "code",
   "execution_count": null,
   "id": "42d8ca61-b0f3-4988-947b-ae10e181772d",
   "metadata": {
    "tags": [],
    "vscode": {
     "languageId": "r"
    }
   },
   "outputs": [],
   "source": [
    "p <- ggbarplot(k_df, x = \"group\", y = \"fit\", fill = \"group\") + \n",
    "            geom_errorbar(aes(ymin=lwr, ymax=upr), width=.2, size=0.5)\n",
    "\n",
    "ggplotMinAethetics(p, width=1.6, height=3.8,\n",
    "                   title=drugname,\n",
    "                   plot.title=element_text(size = 13),\n",
    "                   xlabel=' ', \n",
    "                   ylabel='Burst release (k, %)', \n",
    "                   scale_color='npg',\n",
    "                   legend.position=\"none\"\n",
    "                  ) + theme(axis.text.x = element_text(angle = 45, vjust = 1, hjust=1))+ \n",
    "scale_x_discrete(labels=c(\"4-AS\" = \"- Laponite\", \"4-AS-L\" = \"+ Laponite\"))"
   ]
  },
  {
   "cell_type": "markdown",
   "id": "d1e466d0-3706-48f2-af37-c674934d92ed",
   "metadata": {
    "tags": []
   },
   "source": [
    "## Half-life (t1/2)\n",
    "\n",
    "It is determined by the time when the fraction of released drug reaches 50%"
   ]
  },
  {
   "cell_type": "code",
   "execution_count": null,
   "id": "b3431d2c-5fb3-4366-bfb6-138275d5e703",
   "metadata": {
    "tags": [],
    "vscode": {
     "languageId": "r"
    }
   },
   "outputs": [],
   "source": [
    "cond <- fitted_models$group[2]\n",
    "\n",
    "invest(fitted_models$model[[2]], y0 = 50, x0.name='time', \n",
    "       mean.response = TRUE,\n",
    "       lower=0.01, upper=20, # lower and upper are estimates based on your data \n",
    "       data=df[df$group==cond,]) "
   ]
  },
  {
   "cell_type": "code",
   "execution_count": null,
   "id": "232f6866-2c3e-417e-99cd-45a7bab34e5d",
   "metadata": {
    "tags": [],
    "vscode": {
     "languageId": "r"
    }
   },
   "outputs": [],
   "source": [
    "cond <- fitted_models$group[1]\n",
    "\n",
    "invest(fitted_models$model[[1]], y0 = 50, x0.name='time',\n",
    "       mean.response = TRUE,\n",
    "       lower=0, upper=1000, # lower and upper are estimates based on your data \n",
    "       data=df[df$group==cond,]) "
   ]
  },
  {
   "cell_type": "code",
   "execution_count": null,
   "id": "b3dd8753-dc22-458a-82b5-998d7747dce7",
   "metadata": {
    "tags": [],
    "vscode": {
     "languageId": "r"
    }
   },
   "outputs": [],
   "source": [
    "thalf_df <- data.frame(matrix(ncol = 3, nrow = 0))\n",
    "\n",
    "for(i in 1:nrow(fitted_models)) {       # for-loop over rows\n",
    "    \n",
    "    t <- predict(fitted_models$model[[i]], data.frame(day = 1), interval = \"confidence\")\n",
    "    cond <- fitted_models$group[i]\n",
    "       \n",
    "    t <- invest(fitted_models$model[[i]], y0 = 50, x0.name='time', \n",
    "                mean.response = TRUE,\n",
    "                lower=0.1, upper=1000, # lower and upper are estimates based on your data \n",
    "                data=df[df$group==cond,]) \n",
    "    \n",
    "    thalf_df <- rbind(thalf_df, t)\n",
    "\n",
    "}\n",
    "\n",
    "rownames(thalf_df) <- NULL\n",
    "thalf_df['group'] <- fitted_models['group']\n",
    "\n",
    "thalf_df <- subset(thalf_df, select = -c(interval) )\n",
    "thalf_df"
   ]
  },
  {
   "cell_type": "code",
   "execution_count": null,
   "id": "0e9edfb1-4da8-477c-9ed6-ac802c6c115c",
   "metadata": {
    "tags": [],
    "vscode": {
     "languageId": "r"
    }
   },
   "outputs": [],
   "source": [
    "p <- ggbarplot(thalf_df, x = \"group\", y = \"estimate\", fill = \"group\") + \n",
    "               geom_errorbar(aes(ymin=lower, ymax=upper), width=.2, size=0.5)\n",
    "\n",
    "ggplotMinAethetics(p, width=1.6, height=3.8,\n",
    "                   title='AS2863619',\n",
    "                   plot.title=element_text(size = 13),\n",
    "                   xlabel=' ', \n",
    "                   ylabel=TeX('Half-life (t$_{1/2}$, days)'), \n",
    "                   scale_color='npg',\n",
    "                   legend.position=\"none\"\n",
    "                  ) + theme(axis.text.x = element_text(angle = 45, vjust = 1, hjust=1))+ \n",
    "scale_x_discrete(labels=c(\"4-AS\" = \"- Laponite\", \"4-AS-L\" = \"+ Laponite\"))"
   ]
  },
  {
   "cell_type": "markdown",
   "id": "c9f564c1-1d4b-4967-81e1-9b239a1d5494",
   "metadata": {},
   "source": [
    "## Save release parameters"
   ]
  },
  {
   "cell_type": "code",
   "execution_count": null,
   "id": "8f9775d4-f14c-421a-8ec0-468563f73e07",
   "metadata": {
    "tags": [],
    "vscode": {
     "languageId": "r"
    }
   },
   "outputs": [],
   "source": [
    "colnames(k_df) <- colnames(thalf_df)"
   ]
  },
  {
   "cell_type": "code",
   "execution_count": null,
   "id": "67b9aeaa-8de7-4401-92a8-57965658eb76",
   "metadata": {
    "tags": [],
    "vscode": {
     "languageId": "r"
    }
   },
   "outputs": [],
   "source": [
    "k_df"
   ]
  },
  {
   "cell_type": "code",
   "execution_count": null,
   "id": "96318029-93ce-4d02-8fa1-391692c563c7",
   "metadata": {
    "tags": [],
    "vscode": {
     "languageId": "r"
    }
   },
   "outputs": [],
   "source": [
    "write.csv(k_df, \"burst_release_laponite.csv\", row.names=FALSE)"
   ]
  },
  {
   "cell_type": "code",
   "execution_count": null,
   "id": "735a0ec1-6a11-43ab-8b7d-8c64787b0191",
   "metadata": {
    "tags": [],
    "vscode": {
     "languageId": "r"
    }
   },
   "outputs": [],
   "source": [
    "thalf_df"
   ]
  },
  {
   "cell_type": "code",
   "execution_count": null,
   "id": "fa7c637e-452b-46c8-9e04-60d1996916e7",
   "metadata": {
    "tags": [],
    "vscode": {
     "languageId": "r"
    }
   },
   "outputs": [],
   "source": [
    "write.csv(thalf_df, \"half_life_laponite.csv\", row.names=FALSE)"
   ]
  },
  {
   "cell_type": "code",
   "execution_count": null,
   "id": "f9fb9888-bb2f-4a63-8cdf-a7f8fa3f0dd6",
   "metadata": {
    "vscode": {
     "languageId": "r"
    }
   },
   "outputs": [],
   "source": []
  }
 ],
 "metadata": {
  "kernelspec": {
   "display_name": "R",
   "language": "R",
   "name": "ir"
  },
  "language_info": {
   "codemirror_mode": "r",
   "file_extension": ".r",
   "mimetype": "text/x-r-source",
   "name": "R",
   "pygments_lexer": "r",
   "version": "4.2.3"
  }
 },
 "nbformat": 4,
 "nbformat_minor": 5
}
