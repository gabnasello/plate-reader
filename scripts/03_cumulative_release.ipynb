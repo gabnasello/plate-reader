{
 "cells": [
  {
   "cell_type": "markdown",
   "id": "e6d94ec4-0e60-470b-b2e0-d7ed5f3505f3",
   "metadata": {},
   "source": [
    "<span STYLE=\"font-size:150%\"> \n",
    "    Plot drug release parameters\n",
    "</span>\n",
    "\n",
    "Docker image: gnasello/datascience-env:2023-01-27 \\\n",
    "Latest update: 20 March 2023"
   ]
  },
  {
   "cell_type": "markdown",
   "id": "18782b3e-d301-4b9f-9e65-9597997d1a35",
   "metadata": {},
   "source": [
    "# Load libraries"
   ]
  },
  {
   "cell_type": "code",
   "execution_count": null,
   "id": "e7be9532-9858-439e-8ac6-4f1a9d70c54b",
   "metadata": {
    "tags": [],
    "vscode": {
     "languageId": "r"
    }
   },
   "outputs": [],
   "source": [
    "library(ggplot2)\n",
    "library(latex2exp)\n",
    "library(dplyr)\n",
    "library(tidyverse)"
   ]
  },
  {
   "cell_type": "markdown",
   "id": "3355bd36-2e8d-4349-82db-e9197f4ee6b9",
   "metadata": {},
   "source": [
    "Clone the [r_utils library](https://github.com/gabnasello/r_utils.git) from GitHub in the same folder of this script. \n",
    "\n",
    "You can simply running the following command in a new terminal (open it from JupyterLab):\n",
    "\n",
    "`git clone https://github.com/gabnasello/r_utils.git`\n",
    "\n",
    "How to Reuse Functions That You Create In Scripts, [tutorial](https://www.earthdatascience.org/courses/earth-analytics/multispectral-remote-sensing-data/source-function-in-R/)"
   ]
  },
  {
   "cell_type": "code",
   "execution_count": null,
   "id": "69df05de-f9c9-428b-b2bd-6e4eb9455efa",
   "metadata": {
    "tags": [],
    "vscode": {
     "languageId": "r"
    }
   },
   "outputs": [],
   "source": [
    "source(\"r_utils/ggplot_utils.R\")"
   ]
  },
  {
   "cell_type": "markdown",
   "id": "8a84ccfd-e88c-4317-b8e5-0d10b1c6f513",
   "metadata": {},
   "source": [
    "# Reading data"
   ]
  },
  {
   "cell_type": "markdown",
   "id": "9ac18b17-8934-4bf6-994a-097e11b3836d",
   "metadata": {
    "tags": []
   },
   "source": [
    "<span style=\"color:red\">**User Input**</span>"
   ]
  },
  {
   "cell_type": "code",
   "execution_count": null,
   "id": "702def9a-a518-42c5-a975-3ecb13ca1ebd",
   "metadata": {
    "tags": [],
    "vscode": {
     "languageId": "r"
    }
   },
   "outputs": [],
   "source": [
    "filename <- \"data/2023-03-28_GN011_release.csv\""
   ]
  },
  {
   "cell_type": "code",
   "execution_count": null,
   "id": "7dc676b0-2543-4c86-865c-452eda52ffa2",
   "metadata": {
    "tags": [],
    "vscode": {
     "languageId": "r"
    }
   },
   "outputs": [],
   "source": [
    "# Import the data and look at the first six rows\n",
    "df <- read.csv(file = filename)\n",
    "head(df)"
   ]
  },
  {
   "cell_type": "code",
   "execution_count": null,
   "id": "d0dbee78-9a61-43a1-aed0-0fe028e7175a",
   "metadata": {
    "tags": [],
    "vscode": {
     "languageId": "r"
    }
   },
   "outputs": [],
   "source": [
    "df <- df %>% select(c(group, sample, release, day, Laponite))\n",
    "head(df)"
   ]
  },
  {
   "cell_type": "code",
   "execution_count": null,
   "id": "0bd55140-a14b-4837-acf2-bef63b3a8ae7",
   "metadata": {
    "tags": [],
    "vscode": {
     "languageId": "r"
    }
   },
   "outputs": [],
   "source": [
    "df_test <- df %>% \n",
    "                group_by(group)%>% \n",
    "                    spread(sample, release)\n",
    "df_test"
   ]
  },
  {
   "cell_type": "markdown",
   "id": "78b5d307-3890-4bcc-85f7-ccb5e300d01f",
   "metadata": {
    "tags": []
   },
   "source": [
    "## Split data frame by groups "
   ]
  },
  {
   "cell_type": "markdown",
   "id": "64e0a818-749f-462b-931c-fcf5263afe64",
   "metadata": {},
   "source": [
    "From [dplyr tutorial](https://dplyr.tidyverse.org/reference/group_split.html)"
   ]
  },
  {
   "cell_type": "code",
   "execution_count": null,
   "id": "d75cb353-a2a1-44fd-90f7-bc3d758c398d",
   "metadata": {
    "tags": [],
    "vscode": {
     "languageId": "r"
    }
   },
   "outputs": [],
   "source": [
    "df_spread <- df %>% \n",
    "                group_by(group)%>% \n",
    "                  spread(sample, release)\n",
    "\n",
    "df_split <- group_split( df_spread )\n",
    "df_split"
   ]
  },
  {
   "cell_type": "markdown",
   "id": "dd32bf3b-15be-4c76-a40e-19121bd6a0eb",
   "metadata": {},
   "source": [
    "# Calculate Cumulative Sum by Group"
   ]
  },
  {
   "cell_type": "markdown",
   "id": "ae37b5d5-5262-480f-a86a-85fd811f7de6",
   "metadata": {},
   "source": [
    "From [statology.org](https://www.statology.org/r-cumulative-sum-by-group/)"
   ]
  },
  {
   "cell_type": "code",
   "execution_count": null,
   "id": "87770bca-1b1e-4dfe-9cd9-43df7298d1a7",
   "metadata": {
    "tags": [],
    "vscode": {
     "languageId": "r"
    }
   },
   "outputs": [],
   "source": [
    "df <- df %>% \n",
    "        group_by(group, sample) %>% \n",
    "                mutate(cum_sum = cumsum(release))\n",
    "head(df)"
   ]
  },
  {
   "cell_type": "code",
   "execution_count": null,
   "id": "3bfc2009-502f-4edc-9a50-a175f6cafced",
   "metadata": {
    "tags": [],
    "vscode": {
     "languageId": "r"
    }
   },
   "outputs": [],
   "source": [
    "fileoutput <- \"2023-03-28_GN011_data.csv\"\n",
    "\n",
    "write_csv(df, file = fileoutput)"
   ]
  },
  {
   "cell_type": "markdown",
   "id": "0ae3f021-3a7e-4988-9c27-69c0bbcd4862",
   "metadata": {
    "tags": []
   },
   "source": [
    "## Split data frame by groups "
   ]
  },
  {
   "cell_type": "markdown",
   "id": "1f16953d-d2cb-4cfa-a04c-59c0a0148d76",
   "metadata": {},
   "source": [
    "Drop `amount` column from dataframe"
   ]
  },
  {
   "cell_type": "code",
   "execution_count": null,
   "id": "df30af4d-7da4-42b4-8a3e-b62b3961f880",
   "metadata": {
    "tags": [],
    "vscode": {
     "languageId": "r"
    }
   },
   "outputs": [],
   "source": [
    "df_cum = subset(df, select = -c(release) )\n",
    "head(df_cum)"
   ]
  },
  {
   "cell_type": "markdown",
   "id": "2d137ea0-62ae-48ff-af30-1031ed315450",
   "metadata": {},
   "source": [
    "From [dplyr tutorial](https://dplyr.tidyverse.org/reference/group_split.html)"
   ]
  },
  {
   "cell_type": "code",
   "execution_count": null,
   "id": "e609c014-eefe-46c6-b7df-acd61ef0adde",
   "metadata": {
    "tags": [],
    "vscode": {
     "languageId": "r"
    }
   },
   "outputs": [],
   "source": [
    "df_spread <- df_cum %>% \n",
    "                group_by(group)%>% \n",
    "                  spread(sample, cum_sum)\n",
    "\n",
    "df_split <- group_split( df_spread )\n",
    "df_split"
   ]
  },
  {
   "cell_type": "code",
   "execution_count": null,
   "id": "b74c9d02-b69c-48df-8066-2596ea1bffdf",
   "metadata": {
    "vscode": {
     "languageId": "r"
    }
   },
   "outputs": [],
   "source": []
  }
 ],
 "metadata": {
  "kernelspec": {
   "display_name": "R",
   "language": "R",
   "name": "ir"
  },
  "language_info": {
   "codemirror_mode": "r",
   "file_extension": ".r",
   "mimetype": "text/x-r-source",
   "name": "R",
   "pygments_lexer": "r",
   "version": "4.2.3"
  }
 },
 "nbformat": 4,
 "nbformat_minor": 5
}
