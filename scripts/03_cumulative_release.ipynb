{
 "cells": [
  {
   "cell_type": "markdown",
   "id": "e6d94ec4-0e60-470b-b2e0-d7ed5f3505f3",
   "metadata": {},
   "source": [
    "<span STYLE=\"font-size:150%\"> \n",
    "    Plot drug release parameters\n",
    "</span>\n",
    "\n",
    "Docker image: gnasello/datascience-env:2023-01-27 \\\n",
    "Latest update: 20 March 2023"
   ]
  },
  {
   "cell_type": "markdown",
   "id": "18782b3e-d301-4b9f-9e65-9597997d1a35",
   "metadata": {},
   "source": [
    "# Load libraries"
   ]
  },
  {
   "cell_type": "code",
   "execution_count": 1,
   "id": "e7be9532-9858-439e-8ac6-4f1a9d70c54b",
   "metadata": {
    "tags": []
   },
   "outputs": [
    {
     "name": "stderr",
     "output_type": "stream",
     "text": [
      "\n",
      "Attaching package: ‘dplyr’\n",
      "\n",
      "\n",
      "The following objects are masked from ‘package:stats’:\n",
      "\n",
      "    filter, lag\n",
      "\n",
      "\n",
      "The following objects are masked from ‘package:base’:\n",
      "\n",
      "    intersect, setdiff, setequal, union\n",
      "\n",
      "\n",
      "── \u001b[1mAttaching core tidyverse packages\u001b[22m ──────────────────────── tidyverse 2.0.0 ──\n",
      "\u001b[32m✔\u001b[39m \u001b[34mforcats  \u001b[39m 1.0.0     \u001b[32m✔\u001b[39m \u001b[34mstringr  \u001b[39m 1.5.0\n",
      "\u001b[32m✔\u001b[39m \u001b[34mlubridate\u001b[39m 1.9.2     \u001b[32m✔\u001b[39m \u001b[34mtibble   \u001b[39m 3.2.1\n",
      "\u001b[32m✔\u001b[39m \u001b[34mpurrr    \u001b[39m 1.0.1     \u001b[32m✔\u001b[39m \u001b[34mtidyr    \u001b[39m 1.3.0\n",
      "\u001b[32m✔\u001b[39m \u001b[34mreadr    \u001b[39m 2.1.4     \n",
      "── \u001b[1mConflicts\u001b[22m ────────────────────────────────────────── tidyverse_conflicts() ──\n",
      "\u001b[31m✖\u001b[39m \u001b[34mdplyr\u001b[39m::\u001b[32mfilter()\u001b[39m masks \u001b[34mstats\u001b[39m::filter()\n",
      "\u001b[31m✖\u001b[39m \u001b[34mdplyr\u001b[39m::\u001b[32mlag()\u001b[39m    masks \u001b[34mstats\u001b[39m::lag()\n",
      "\u001b[36mℹ\u001b[39m Use the conflicted package (\u001b[3m\u001b[34m<http://conflicted.r-lib.org/>\u001b[39m\u001b[23m) to force all conflicts to become errors\n"
     ]
    }
   ],
   "source": [
    "library(ggplot2)\n",
    "library(latex2exp)\n",
    "library(dplyr)\n",
    "library(tidyverse)"
   ]
  },
  {
   "cell_type": "markdown",
   "id": "3355bd36-2e8d-4349-82db-e9197f4ee6b9",
   "metadata": {},
   "source": [
    "Clone the [r_utils library](https://github.com/gabnasello/r_utils.git) from GitHub in the same folder of this script. \n",
    "\n",
    "You can simply running the following command in a new terminal (open it from JupyterLab):\n",
    "\n",
    "`git clone https://github.com/gabnasello/r_utils.git`\n",
    "\n",
    "How to Reuse Functions That You Create In Scripts, [tutorial](https://www.earthdatascience.org/courses/earth-analytics/multispectral-remote-sensing-data/source-function-in-R/)"
   ]
  },
  {
   "cell_type": "code",
   "execution_count": 2,
   "id": "69df05de-f9c9-428b-b2bd-6e4eb9455efa",
   "metadata": {
    "tags": []
   },
   "outputs": [],
   "source": [
    "source(\"r_utils/ggplot_utils.R\")"
   ]
  },
  {
   "cell_type": "markdown",
   "id": "8a84ccfd-e88c-4317-b8e5-0d10b1c6f513",
   "metadata": {},
   "source": [
    "# Reading data"
   ]
  },
  {
   "cell_type": "markdown",
   "id": "9ac18b17-8934-4bf6-994a-097e11b3836d",
   "metadata": {
    "tags": []
   },
   "source": [
    "<span style=\"color:red\">**User Input**</span>"
   ]
  },
  {
   "cell_type": "code",
   "execution_count": 3,
   "id": "702def9a-a518-42c5-a975-3ecb13ca1ebd",
   "metadata": {
    "tags": []
   },
   "outputs": [],
   "source": [
    "filename <- \"data/2023-03-28_GN011_release.csv\""
   ]
  },
  {
   "cell_type": "code",
   "execution_count": 4,
   "id": "7dc676b0-2543-4c86-865c-452eda52ffa2",
   "metadata": {
    "tags": []
   },
   "outputs": [
    {
     "data": {
      "text/html": [
       "<table class=\"dataframe\">\n",
       "<caption>A data.frame: 6 × 17</caption>\n",
       "<thead>\n",
       "\t<tr><th></th><th scope=col>Well.ID</th><th scope=col>Name</th><th scope=col>Well</th><th scope=col>Conc.Dil</th><th scope=col>X275480</th><th scope=col>Count</th><th scope=col>Mean</th><th scope=col>Std.Dev</th><th scope=col>CV....</th><th scope=col>Mean_blnk</th><th scope=col>concentration</th><th scope=col>volume</th><th scope=col>day</th><th scope=col>group</th><th scope=col>Laponite</th><th scope=col>sample</th><th scope=col>release</th></tr>\n",
       "\t<tr><th></th><th scope=col>&lt;chr&gt;</th><th scope=col>&lt;lgl&gt;</th><th scope=col>&lt;chr&gt;</th><th scope=col>&lt;lgl&gt;</th><th scope=col>&lt;int&gt;</th><th scope=col>&lt;int&gt;</th><th scope=col>&lt;int&gt;</th><th scope=col>&lt;chr&gt;</th><th scope=col>&lt;chr&gt;</th><th scope=col>&lt;int&gt;</th><th scope=col>&lt;dbl&gt;</th><th scope=col>&lt;dbl&gt;</th><th scope=col>&lt;int&gt;</th><th scope=col>&lt;chr&gt;</th><th scope=col>&lt;int&gt;</th><th scope=col>&lt;int&gt;</th><th scope=col>&lt;dbl&gt;</th></tr>\n",
       "</thead>\n",
       "<tbody>\n",
       "\t<tr><th scope=row>1</th><td>SPL1</td><td>NA</td><td>A1</td><td>NA</td><td>10349</td><td>1</td><td>10349</td><td>?????</td><td>?????</td><td> 7439</td><td>16.69169</td><td>1.7</td><td>0</td><td>4-AS  </td><td>0</td><td>1</td><td>14.187940</td></tr>\n",
       "\t<tr><th scope=row>2</th><td>SPL2</td><td>NA</td><td>A2</td><td>NA</td><td>22987</td><td>1</td><td>22987</td><td>?????</td><td>?????</td><td>20077</td><td>45.04895</td><td>1.7</td><td>0</td><td>4-AS  </td><td>0</td><td>2</td><td>38.291608</td></tr>\n",
       "\t<tr><th scope=row>3</th><td>SPL3</td><td>NA</td><td>A3</td><td>NA</td><td> 9415</td><td>1</td><td> 9415</td><td>?????</td><td>?????</td><td> 6505</td><td>14.59598</td><td>1.7</td><td>0</td><td>4-AS  </td><td>0</td><td>3</td><td>12.406580</td></tr>\n",
       "\t<tr><th scope=row>4</th><td>SPL4</td><td>NA</td><td>A4</td><td>NA</td><td> 8467</td><td>1</td><td> 8467</td><td>?????</td><td>?????</td><td> 5557</td><td>12.46885</td><td>1.7</td><td>0</td><td>4-AS  </td><td>0</td><td>4</td><td>10.598519</td></tr>\n",
       "\t<tr><th scope=row>5</th><td>SPL5</td><td>NA</td><td>A5</td><td>NA</td><td>13380</td><td>1</td><td>13380</td><td>?????</td><td>?????</td><td>10470</td><td>23.49268</td><td>1.7</td><td>0</td><td>4-AS-L</td><td>1</td><td>1</td><td>19.968777</td></tr>\n",
       "\t<tr><th scope=row>6</th><td>SPL6</td><td>NA</td><td>A6</td><td>NA</td><td> 8133</td><td>1</td><td> 8133</td><td>?????</td><td>?????</td><td> 5223</td><td>11.71941</td><td>1.7</td><td>0</td><td>4-AS-L</td><td>1</td><td>2</td><td> 9.961502</td></tr>\n",
       "</tbody>\n",
       "</table>\n"
      ],
      "text/latex": [
       "A data.frame: 6 × 17\n",
       "\\begin{tabular}{r|lllllllllllllllll}\n",
       "  & Well.ID & Name & Well & Conc.Dil & X275480 & Count & Mean & Std.Dev & CV.... & Mean\\_blnk & concentration & volume & day & group & Laponite & sample & release\\\\\n",
       "  & <chr> & <lgl> & <chr> & <lgl> & <int> & <int> & <int> & <chr> & <chr> & <int> & <dbl> & <dbl> & <int> & <chr> & <int> & <int> & <dbl>\\\\\n",
       "\\hline\n",
       "\t1 & SPL1 & NA & A1 & NA & 10349 & 1 & 10349 & ????? & ????? &  7439 & 16.69169 & 1.7 & 0 & 4-AS   & 0 & 1 & 14.187940\\\\\n",
       "\t2 & SPL2 & NA & A2 & NA & 22987 & 1 & 22987 & ????? & ????? & 20077 & 45.04895 & 1.7 & 0 & 4-AS   & 0 & 2 & 38.291608\\\\\n",
       "\t3 & SPL3 & NA & A3 & NA &  9415 & 1 &  9415 & ????? & ????? &  6505 & 14.59598 & 1.7 & 0 & 4-AS   & 0 & 3 & 12.406580\\\\\n",
       "\t4 & SPL4 & NA & A4 & NA &  8467 & 1 &  8467 & ????? & ????? &  5557 & 12.46885 & 1.7 & 0 & 4-AS   & 0 & 4 & 10.598519\\\\\n",
       "\t5 & SPL5 & NA & A5 & NA & 13380 & 1 & 13380 & ????? & ????? & 10470 & 23.49268 & 1.7 & 0 & 4-AS-L & 1 & 1 & 19.968777\\\\\n",
       "\t6 & SPL6 & NA & A6 & NA &  8133 & 1 &  8133 & ????? & ????? &  5223 & 11.71941 & 1.7 & 0 & 4-AS-L & 1 & 2 &  9.961502\\\\\n",
       "\\end{tabular}\n"
      ],
      "text/markdown": [
       "\n",
       "A data.frame: 6 × 17\n",
       "\n",
       "| <!--/--> | Well.ID &lt;chr&gt; | Name &lt;lgl&gt; | Well &lt;chr&gt; | Conc.Dil &lt;lgl&gt; | X275480 &lt;int&gt; | Count &lt;int&gt; | Mean &lt;int&gt; | Std.Dev &lt;chr&gt; | CV.... &lt;chr&gt; | Mean_blnk &lt;int&gt; | concentration &lt;dbl&gt; | volume &lt;dbl&gt; | day &lt;int&gt; | group &lt;chr&gt; | Laponite &lt;int&gt; | sample &lt;int&gt; | release &lt;dbl&gt; |\n",
       "|---|---|---|---|---|---|---|---|---|---|---|---|---|---|---|---|---|---|\n",
       "| 1 | SPL1 | NA | A1 | NA | 10349 | 1 | 10349 | ????? | ????? |  7439 | 16.69169 | 1.7 | 0 | 4-AS   | 0 | 1 | 14.187940 |\n",
       "| 2 | SPL2 | NA | A2 | NA | 22987 | 1 | 22987 | ????? | ????? | 20077 | 45.04895 | 1.7 | 0 | 4-AS   | 0 | 2 | 38.291608 |\n",
       "| 3 | SPL3 | NA | A3 | NA |  9415 | 1 |  9415 | ????? | ????? |  6505 | 14.59598 | 1.7 | 0 | 4-AS   | 0 | 3 | 12.406580 |\n",
       "| 4 | SPL4 | NA | A4 | NA |  8467 | 1 |  8467 | ????? | ????? |  5557 | 12.46885 | 1.7 | 0 | 4-AS   | 0 | 4 | 10.598519 |\n",
       "| 5 | SPL5 | NA | A5 | NA | 13380 | 1 | 13380 | ????? | ????? | 10470 | 23.49268 | 1.7 | 0 | 4-AS-L | 1 | 1 | 19.968777 |\n",
       "| 6 | SPL6 | NA | A6 | NA |  8133 | 1 |  8133 | ????? | ????? |  5223 | 11.71941 | 1.7 | 0 | 4-AS-L | 1 | 2 |  9.961502 |\n",
       "\n"
      ],
      "text/plain": [
       "  Well.ID Name Well Conc.Dil X275480 Count Mean  Std.Dev CV.... Mean_blnk\n",
       "1 SPL1    NA   A1   NA       10349   1     10349 ?????   ?????   7439    \n",
       "2 SPL2    NA   A2   NA       22987   1     22987 ?????   ?????  20077    \n",
       "3 SPL3    NA   A3   NA        9415   1      9415 ?????   ?????   6505    \n",
       "4 SPL4    NA   A4   NA        8467   1      8467 ?????   ?????   5557    \n",
       "5 SPL5    NA   A5   NA       13380   1     13380 ?????   ?????  10470    \n",
       "6 SPL6    NA   A6   NA        8133   1      8133 ?????   ?????   5223    \n",
       "  concentration volume day group  Laponite sample release  \n",
       "1 16.69169      1.7    0   4-AS   0        1      14.187940\n",
       "2 45.04895      1.7    0   4-AS   0        2      38.291608\n",
       "3 14.59598      1.7    0   4-AS   0        3      12.406580\n",
       "4 12.46885      1.7    0   4-AS   0        4      10.598519\n",
       "5 23.49268      1.7    0   4-AS-L 1        1      19.968777\n",
       "6 11.71941      1.7    0   4-AS-L 1        2       9.961502"
      ]
     },
     "metadata": {},
     "output_type": "display_data"
    }
   ],
   "source": [
    "# Import the data and look at the first six rows\n",
    "df <- read.csv(file = filename)\n",
    "head(df)"
   ]
  },
  {
   "cell_type": "code",
   "execution_count": 5,
   "id": "d0dbee78-9a61-43a1-aed0-0fe028e7175a",
   "metadata": {
    "tags": []
   },
   "outputs": [
    {
     "data": {
      "text/html": [
       "<table class=\"dataframe\">\n",
       "<caption>A data.frame: 6 × 5</caption>\n",
       "<thead>\n",
       "\t<tr><th></th><th scope=col>group</th><th scope=col>sample</th><th scope=col>release</th><th scope=col>day</th><th scope=col>Laponite</th></tr>\n",
       "\t<tr><th></th><th scope=col>&lt;chr&gt;</th><th scope=col>&lt;int&gt;</th><th scope=col>&lt;dbl&gt;</th><th scope=col>&lt;int&gt;</th><th scope=col>&lt;int&gt;</th></tr>\n",
       "</thead>\n",
       "<tbody>\n",
       "\t<tr><th scope=row>1</th><td>4-AS  </td><td>1</td><td>14.187940</td><td>0</td><td>0</td></tr>\n",
       "\t<tr><th scope=row>2</th><td>4-AS  </td><td>2</td><td>38.291608</td><td>0</td><td>0</td></tr>\n",
       "\t<tr><th scope=row>3</th><td>4-AS  </td><td>3</td><td>12.406580</td><td>0</td><td>0</td></tr>\n",
       "\t<tr><th scope=row>4</th><td>4-AS  </td><td>4</td><td>10.598519</td><td>0</td><td>0</td></tr>\n",
       "\t<tr><th scope=row>5</th><td>4-AS-L</td><td>1</td><td>19.968777</td><td>0</td><td>1</td></tr>\n",
       "\t<tr><th scope=row>6</th><td>4-AS-L</td><td>2</td><td> 9.961502</td><td>0</td><td>1</td></tr>\n",
       "</tbody>\n",
       "</table>\n"
      ],
      "text/latex": [
       "A data.frame: 6 × 5\n",
       "\\begin{tabular}{r|lllll}\n",
       "  & group & sample & release & day & Laponite\\\\\n",
       "  & <chr> & <int> & <dbl> & <int> & <int>\\\\\n",
       "\\hline\n",
       "\t1 & 4-AS   & 1 & 14.187940 & 0 & 0\\\\\n",
       "\t2 & 4-AS   & 2 & 38.291608 & 0 & 0\\\\\n",
       "\t3 & 4-AS   & 3 & 12.406580 & 0 & 0\\\\\n",
       "\t4 & 4-AS   & 4 & 10.598519 & 0 & 0\\\\\n",
       "\t5 & 4-AS-L & 1 & 19.968777 & 0 & 1\\\\\n",
       "\t6 & 4-AS-L & 2 &  9.961502 & 0 & 1\\\\\n",
       "\\end{tabular}\n"
      ],
      "text/markdown": [
       "\n",
       "A data.frame: 6 × 5\n",
       "\n",
       "| <!--/--> | group &lt;chr&gt; | sample &lt;int&gt; | release &lt;dbl&gt; | day &lt;int&gt; | Laponite &lt;int&gt; |\n",
       "|---|---|---|---|---|---|\n",
       "| 1 | 4-AS   | 1 | 14.187940 | 0 | 0 |\n",
       "| 2 | 4-AS   | 2 | 38.291608 | 0 | 0 |\n",
       "| 3 | 4-AS   | 3 | 12.406580 | 0 | 0 |\n",
       "| 4 | 4-AS   | 4 | 10.598519 | 0 | 0 |\n",
       "| 5 | 4-AS-L | 1 | 19.968777 | 0 | 1 |\n",
       "| 6 | 4-AS-L | 2 |  9.961502 | 0 | 1 |\n",
       "\n"
      ],
      "text/plain": [
       "  group  sample release   day Laponite\n",
       "1 4-AS   1      14.187940 0   0       \n",
       "2 4-AS   2      38.291608 0   0       \n",
       "3 4-AS   3      12.406580 0   0       \n",
       "4 4-AS   4      10.598519 0   0       \n",
       "5 4-AS-L 1      19.968777 0   1       \n",
       "6 4-AS-L 2       9.961502 0   1       "
      ]
     },
     "metadata": {},
     "output_type": "display_data"
    }
   ],
   "source": [
    "df <- df %>% select(c(group, sample, release, day, Laponite))\n",
    "head(df)"
   ]
  },
  {
   "cell_type": "code",
   "execution_count": 6,
   "id": "0bd55140-a14b-4837-acf2-bef63b3a8ae7",
   "metadata": {
    "tags": []
   },
   "outputs": [
    {
     "data": {
      "text/html": [
       "<table class=\"dataframe\">\n",
       "<caption>A grouped_df: 15 × 7</caption>\n",
       "<thead>\n",
       "\t<tr><th scope=col>group</th><th scope=col>day</th><th scope=col>Laponite</th><th scope=col>1</th><th scope=col>2</th><th scope=col>3</th><th scope=col>4</th></tr>\n",
       "\t<tr><th scope=col>&lt;chr&gt;</th><th scope=col>&lt;int&gt;</th><th scope=col>&lt;int&gt;</th><th scope=col>&lt;dbl&gt;</th><th scope=col>&lt;dbl&gt;</th><th scope=col>&lt;dbl&gt;</th><th scope=col>&lt;dbl&gt;</th></tr>\n",
       "</thead>\n",
       "<tbody>\n",
       "\t<tr><td>4-AS  </td><td>0</td><td>0</td><td>14.187940</td><td>38.291608</td><td>12.40658</td><td>10.598519</td></tr>\n",
       "\t<tr><td>4-AS  </td><td>1</td><td>0</td><td>14.150132</td><td>10.379860</td><td>12.27105</td><td>10.384403</td></tr>\n",
       "\t<tr><td>4-AS  </td><td>2</td><td>0</td><td>13.881043</td><td>10.977610</td><td>11.86363</td><td>11.419865</td></tr>\n",
       "\t<tr><td>4-AS  </td><td>3</td><td>0</td><td>10.770619</td><td>12.100412</td><td> 8.77391</td><td> 9.242922</td></tr>\n",
       "\t<tr><td>4-AS  </td><td>5</td><td>0</td><td>16.520940</td><td>18.308134</td><td>18.87509</td><td>19.251712</td></tr>\n",
       "\t<tr><td>4-AS-L</td><td>0</td><td>1</td><td>19.968777</td><td> 9.961502</td><td>11.84776</td><td>18.269428</td></tr>\n",
       "\t<tr><td>4-AS-L</td><td>1</td><td>1</td><td>10.237995</td><td>11.866664</td><td>10.10370</td><td>10.281413</td></tr>\n",
       "\t<tr><td>4-AS-L</td><td>2</td><td>1</td><td> 9.576127</td><td>11.413302</td><td>12.56488</td><td>12.417967</td></tr>\n",
       "\t<tr><td>4-AS-L</td><td>3</td><td>1</td><td> 9.823003</td><td>10.523239</td><td>14.36318</td><td>15.036661</td></tr>\n",
       "\t<tr><td>4-AS-L</td><td>5</td><td>1</td><td>23.478374</td><td>18.186463</td><td>22.24349</td><td>19.148721</td></tr>\n",
       "\t<tr><td>6-AS  </td><td>0</td><td>0</td><td>11.189763</td><td>20.516154</td><td>11.34043</td><td> 4.642216</td></tr>\n",
       "\t<tr><td>6-AS  </td><td>1</td><td>0</td><td> 8.884473</td><td>11.340603</td><td>15.59907</td><td>19.792918</td></tr>\n",
       "\t<tr><td>6-AS  </td><td>2</td><td>0</td><td>16.806184</td><td> 9.135387</td><td>13.74625</td><td>11.995402</td></tr>\n",
       "\t<tr><td>6-AS  </td><td>3</td><td>0</td><td>23.498569</td><td>11.416836</td><td>11.80760</td><td>15.055340</td></tr>\n",
       "\t<tr><td>6-AS  </td><td>5</td><td>0</td><td>32.990890</td><td>26.477730</td><td>18.47928</td><td>19.023516</td></tr>\n",
       "</tbody>\n",
       "</table>\n"
      ],
      "text/latex": [
       "A grouped\\_df: 15 × 7\n",
       "\\begin{tabular}{lllllll}\n",
       " group & day & Laponite & 1 & 2 & 3 & 4\\\\\n",
       " <chr> & <int> & <int> & <dbl> & <dbl> & <dbl> & <dbl>\\\\\n",
       "\\hline\n",
       "\t 4-AS   & 0 & 0 & 14.187940 & 38.291608 & 12.40658 & 10.598519\\\\\n",
       "\t 4-AS   & 1 & 0 & 14.150132 & 10.379860 & 12.27105 & 10.384403\\\\\n",
       "\t 4-AS   & 2 & 0 & 13.881043 & 10.977610 & 11.86363 & 11.419865\\\\\n",
       "\t 4-AS   & 3 & 0 & 10.770619 & 12.100412 &  8.77391 &  9.242922\\\\\n",
       "\t 4-AS   & 5 & 0 & 16.520940 & 18.308134 & 18.87509 & 19.251712\\\\\n",
       "\t 4-AS-L & 0 & 1 & 19.968777 &  9.961502 & 11.84776 & 18.269428\\\\\n",
       "\t 4-AS-L & 1 & 1 & 10.237995 & 11.866664 & 10.10370 & 10.281413\\\\\n",
       "\t 4-AS-L & 2 & 1 &  9.576127 & 11.413302 & 12.56488 & 12.417967\\\\\n",
       "\t 4-AS-L & 3 & 1 &  9.823003 & 10.523239 & 14.36318 & 15.036661\\\\\n",
       "\t 4-AS-L & 5 & 1 & 23.478374 & 18.186463 & 22.24349 & 19.148721\\\\\n",
       "\t 6-AS   & 0 & 0 & 11.189763 & 20.516154 & 11.34043 &  4.642216\\\\\n",
       "\t 6-AS   & 1 & 0 &  8.884473 & 11.340603 & 15.59907 & 19.792918\\\\\n",
       "\t 6-AS   & 2 & 0 & 16.806184 &  9.135387 & 13.74625 & 11.995402\\\\\n",
       "\t 6-AS   & 3 & 0 & 23.498569 & 11.416836 & 11.80760 & 15.055340\\\\\n",
       "\t 6-AS   & 5 & 0 & 32.990890 & 26.477730 & 18.47928 & 19.023516\\\\\n",
       "\\end{tabular}\n"
      ],
      "text/markdown": [
       "\n",
       "A grouped_df: 15 × 7\n",
       "\n",
       "| group &lt;chr&gt; | day &lt;int&gt; | Laponite &lt;int&gt; | 1 &lt;dbl&gt; | 2 &lt;dbl&gt; | 3 &lt;dbl&gt; | 4 &lt;dbl&gt; |\n",
       "|---|---|---|---|---|---|---|\n",
       "| 4-AS   | 0 | 0 | 14.187940 | 38.291608 | 12.40658 | 10.598519 |\n",
       "| 4-AS   | 1 | 0 | 14.150132 | 10.379860 | 12.27105 | 10.384403 |\n",
       "| 4-AS   | 2 | 0 | 13.881043 | 10.977610 | 11.86363 | 11.419865 |\n",
       "| 4-AS   | 3 | 0 | 10.770619 | 12.100412 |  8.77391 |  9.242922 |\n",
       "| 4-AS   | 5 | 0 | 16.520940 | 18.308134 | 18.87509 | 19.251712 |\n",
       "| 4-AS-L | 0 | 1 | 19.968777 |  9.961502 | 11.84776 | 18.269428 |\n",
       "| 4-AS-L | 1 | 1 | 10.237995 | 11.866664 | 10.10370 | 10.281413 |\n",
       "| 4-AS-L | 2 | 1 |  9.576127 | 11.413302 | 12.56488 | 12.417967 |\n",
       "| 4-AS-L | 3 | 1 |  9.823003 | 10.523239 | 14.36318 | 15.036661 |\n",
       "| 4-AS-L | 5 | 1 | 23.478374 | 18.186463 | 22.24349 | 19.148721 |\n",
       "| 6-AS   | 0 | 0 | 11.189763 | 20.516154 | 11.34043 |  4.642216 |\n",
       "| 6-AS   | 1 | 0 |  8.884473 | 11.340603 | 15.59907 | 19.792918 |\n",
       "| 6-AS   | 2 | 0 | 16.806184 |  9.135387 | 13.74625 | 11.995402 |\n",
       "| 6-AS   | 3 | 0 | 23.498569 | 11.416836 | 11.80760 | 15.055340 |\n",
       "| 6-AS   | 5 | 0 | 32.990890 | 26.477730 | 18.47928 | 19.023516 |\n",
       "\n"
      ],
      "text/plain": [
       "   group  day Laponite 1         2         3        4        \n",
       "1  4-AS   0   0        14.187940 38.291608 12.40658 10.598519\n",
       "2  4-AS   1   0        14.150132 10.379860 12.27105 10.384403\n",
       "3  4-AS   2   0        13.881043 10.977610 11.86363 11.419865\n",
       "4  4-AS   3   0        10.770619 12.100412  8.77391  9.242922\n",
       "5  4-AS   5   0        16.520940 18.308134 18.87509 19.251712\n",
       "6  4-AS-L 0   1        19.968777  9.961502 11.84776 18.269428\n",
       "7  4-AS-L 1   1        10.237995 11.866664 10.10370 10.281413\n",
       "8  4-AS-L 2   1         9.576127 11.413302 12.56488 12.417967\n",
       "9  4-AS-L 3   1         9.823003 10.523239 14.36318 15.036661\n",
       "10 4-AS-L 5   1        23.478374 18.186463 22.24349 19.148721\n",
       "11 6-AS   0   0        11.189763 20.516154 11.34043  4.642216\n",
       "12 6-AS   1   0         8.884473 11.340603 15.59907 19.792918\n",
       "13 6-AS   2   0        16.806184  9.135387 13.74625 11.995402\n",
       "14 6-AS   3   0        23.498569 11.416836 11.80760 15.055340\n",
       "15 6-AS   5   0        32.990890 26.477730 18.47928 19.023516"
      ]
     },
     "metadata": {},
     "output_type": "display_data"
    }
   ],
   "source": [
    "df_test <- df %>% \n",
    "                group_by(group)%>% \n",
    "                    spread(sample, release)\n",
    "df_test"
   ]
  },
  {
   "cell_type": "markdown",
   "id": "78b5d307-3890-4bcc-85f7-ccb5e300d01f",
   "metadata": {
    "tags": []
   },
   "source": [
    "## Split data frame by groups "
   ]
  },
  {
   "cell_type": "markdown",
   "id": "64e0a818-749f-462b-931c-fcf5263afe64",
   "metadata": {},
   "source": [
    "From [dplyr tutorial](https://dplyr.tidyverse.org/reference/group_split.html)"
   ]
  },
  {
   "cell_type": "code",
   "execution_count": 7,
   "id": "d75cb353-a2a1-44fd-90f7-bc3d758c398d",
   "metadata": {
    "tags": []
   },
   "outputs": [
    {
     "data": {
      "text/html": [
       "<ol>\n",
       "\t<li><table class=\"dataframe\">\n",
       "<caption>A tibble: 5 × 7</caption>\n",
       "<thead>\n",
       "\t<tr><th scope=col>group</th><th scope=col>day</th><th scope=col>Laponite</th><th scope=col>1</th><th scope=col>2</th><th scope=col>3</th><th scope=col>4</th></tr>\n",
       "\t<tr><th scope=col>&lt;chr&gt;</th><th scope=col>&lt;int&gt;</th><th scope=col>&lt;int&gt;</th><th scope=col>&lt;dbl&gt;</th><th scope=col>&lt;dbl&gt;</th><th scope=col>&lt;dbl&gt;</th><th scope=col>&lt;dbl&gt;</th></tr>\n",
       "</thead>\n",
       "<tbody>\n",
       "\t<tr><td>4-AS</td><td>0</td><td>0</td><td>14.18794</td><td>38.29161</td><td>12.40658</td><td>10.598519</td></tr>\n",
       "\t<tr><td>4-AS</td><td>1</td><td>0</td><td>14.15013</td><td>10.37986</td><td>12.27105</td><td>10.384403</td></tr>\n",
       "\t<tr><td>4-AS</td><td>2</td><td>0</td><td>13.88104</td><td>10.97761</td><td>11.86363</td><td>11.419865</td></tr>\n",
       "\t<tr><td>4-AS</td><td>3</td><td>0</td><td>10.77062</td><td>12.10041</td><td> 8.77391</td><td> 9.242922</td></tr>\n",
       "\t<tr><td>4-AS</td><td>5</td><td>0</td><td>16.52094</td><td>18.30813</td><td>18.87509</td><td>19.251712</td></tr>\n",
       "</tbody>\n",
       "</table>\n",
       "</li>\n",
       "\t<li><table class=\"dataframe\">\n",
       "<caption>A tibble: 5 × 7</caption>\n",
       "<thead>\n",
       "\t<tr><th scope=col>group</th><th scope=col>day</th><th scope=col>Laponite</th><th scope=col>1</th><th scope=col>2</th><th scope=col>3</th><th scope=col>4</th></tr>\n",
       "\t<tr><th scope=col>&lt;chr&gt;</th><th scope=col>&lt;int&gt;</th><th scope=col>&lt;int&gt;</th><th scope=col>&lt;dbl&gt;</th><th scope=col>&lt;dbl&gt;</th><th scope=col>&lt;dbl&gt;</th><th scope=col>&lt;dbl&gt;</th></tr>\n",
       "</thead>\n",
       "<tbody>\n",
       "\t<tr><td>4-AS-L</td><td>0</td><td>1</td><td>19.968777</td><td> 9.961502</td><td>11.84776</td><td>18.26943</td></tr>\n",
       "\t<tr><td>4-AS-L</td><td>1</td><td>1</td><td>10.237995</td><td>11.866664</td><td>10.10370</td><td>10.28141</td></tr>\n",
       "\t<tr><td>4-AS-L</td><td>2</td><td>1</td><td> 9.576127</td><td>11.413302</td><td>12.56488</td><td>12.41797</td></tr>\n",
       "\t<tr><td>4-AS-L</td><td>3</td><td>1</td><td> 9.823003</td><td>10.523239</td><td>14.36318</td><td>15.03666</td></tr>\n",
       "\t<tr><td>4-AS-L</td><td>5</td><td>1</td><td>23.478374</td><td>18.186463</td><td>22.24349</td><td>19.14872</td></tr>\n",
       "</tbody>\n",
       "</table>\n",
       "</li>\n",
       "\t<li><table class=\"dataframe\">\n",
       "<caption>A tibble: 5 × 7</caption>\n",
       "<thead>\n",
       "\t<tr><th scope=col>group</th><th scope=col>day</th><th scope=col>Laponite</th><th scope=col>1</th><th scope=col>2</th><th scope=col>3</th><th scope=col>4</th></tr>\n",
       "\t<tr><th scope=col>&lt;chr&gt;</th><th scope=col>&lt;int&gt;</th><th scope=col>&lt;int&gt;</th><th scope=col>&lt;dbl&gt;</th><th scope=col>&lt;dbl&gt;</th><th scope=col>&lt;dbl&gt;</th><th scope=col>&lt;dbl&gt;</th></tr>\n",
       "</thead>\n",
       "<tbody>\n",
       "\t<tr><td>6-AS</td><td>0</td><td>0</td><td>11.189763</td><td>20.516154</td><td>11.34043</td><td> 4.642216</td></tr>\n",
       "\t<tr><td>6-AS</td><td>1</td><td>0</td><td> 8.884473</td><td>11.340603</td><td>15.59907</td><td>19.792918</td></tr>\n",
       "\t<tr><td>6-AS</td><td>2</td><td>0</td><td>16.806184</td><td> 9.135387</td><td>13.74625</td><td>11.995402</td></tr>\n",
       "\t<tr><td>6-AS</td><td>3</td><td>0</td><td>23.498569</td><td>11.416836</td><td>11.80760</td><td>15.055340</td></tr>\n",
       "\t<tr><td>6-AS</td><td>5</td><td>0</td><td>32.990890</td><td>26.477730</td><td>18.47928</td><td>19.023516</td></tr>\n",
       "</tbody>\n",
       "</table>\n",
       "</li>\n",
       "</ol>\n"
      ],
      "text/latex": [
       "\\begin{enumerate}\n",
       "\\item A tibble: 5 × 7\n",
       "\\begin{tabular}{lllllll}\n",
       " group & day & Laponite & 1 & 2 & 3 & 4\\\\\n",
       " <chr> & <int> & <int> & <dbl> & <dbl> & <dbl> & <dbl>\\\\\n",
       "\\hline\n",
       "\t 4-AS & 0 & 0 & 14.18794 & 38.29161 & 12.40658 & 10.598519\\\\\n",
       "\t 4-AS & 1 & 0 & 14.15013 & 10.37986 & 12.27105 & 10.384403\\\\\n",
       "\t 4-AS & 2 & 0 & 13.88104 & 10.97761 & 11.86363 & 11.419865\\\\\n",
       "\t 4-AS & 3 & 0 & 10.77062 & 12.10041 &  8.77391 &  9.242922\\\\\n",
       "\t 4-AS & 5 & 0 & 16.52094 & 18.30813 & 18.87509 & 19.251712\\\\\n",
       "\\end{tabular}\n",
       "\n",
       "\\item A tibble: 5 × 7\n",
       "\\begin{tabular}{lllllll}\n",
       " group & day & Laponite & 1 & 2 & 3 & 4\\\\\n",
       " <chr> & <int> & <int> & <dbl> & <dbl> & <dbl> & <dbl>\\\\\n",
       "\\hline\n",
       "\t 4-AS-L & 0 & 1 & 19.968777 &  9.961502 & 11.84776 & 18.26943\\\\\n",
       "\t 4-AS-L & 1 & 1 & 10.237995 & 11.866664 & 10.10370 & 10.28141\\\\\n",
       "\t 4-AS-L & 2 & 1 &  9.576127 & 11.413302 & 12.56488 & 12.41797\\\\\n",
       "\t 4-AS-L & 3 & 1 &  9.823003 & 10.523239 & 14.36318 & 15.03666\\\\\n",
       "\t 4-AS-L & 5 & 1 & 23.478374 & 18.186463 & 22.24349 & 19.14872\\\\\n",
       "\\end{tabular}\n",
       "\n",
       "\\item A tibble: 5 × 7\n",
       "\\begin{tabular}{lllllll}\n",
       " group & day & Laponite & 1 & 2 & 3 & 4\\\\\n",
       " <chr> & <int> & <int> & <dbl> & <dbl> & <dbl> & <dbl>\\\\\n",
       "\\hline\n",
       "\t 6-AS & 0 & 0 & 11.189763 & 20.516154 & 11.34043 &  4.642216\\\\\n",
       "\t 6-AS & 1 & 0 &  8.884473 & 11.340603 & 15.59907 & 19.792918\\\\\n",
       "\t 6-AS & 2 & 0 & 16.806184 &  9.135387 & 13.74625 & 11.995402\\\\\n",
       "\t 6-AS & 3 & 0 & 23.498569 & 11.416836 & 11.80760 & 15.055340\\\\\n",
       "\t 6-AS & 5 & 0 & 32.990890 & 26.477730 & 18.47928 & 19.023516\\\\\n",
       "\\end{tabular}\n",
       "\n",
       "\\end{enumerate}\n"
      ],
      "text/markdown": [
       "1. \n",
       "A tibble: 5 × 7\n",
       "\n",
       "| group &lt;chr&gt; | day &lt;int&gt; | Laponite &lt;int&gt; | 1 &lt;dbl&gt; | 2 &lt;dbl&gt; | 3 &lt;dbl&gt; | 4 &lt;dbl&gt; |\n",
       "|---|---|---|---|---|---|---|\n",
       "| 4-AS | 0 | 0 | 14.18794 | 38.29161 | 12.40658 | 10.598519 |\n",
       "| 4-AS | 1 | 0 | 14.15013 | 10.37986 | 12.27105 | 10.384403 |\n",
       "| 4-AS | 2 | 0 | 13.88104 | 10.97761 | 11.86363 | 11.419865 |\n",
       "| 4-AS | 3 | 0 | 10.77062 | 12.10041 |  8.77391 |  9.242922 |\n",
       "| 4-AS | 5 | 0 | 16.52094 | 18.30813 | 18.87509 | 19.251712 |\n",
       "\n",
       "\n",
       "2. \n",
       "A tibble: 5 × 7\n",
       "\n",
       "| group &lt;chr&gt; | day &lt;int&gt; | Laponite &lt;int&gt; | 1 &lt;dbl&gt; | 2 &lt;dbl&gt; | 3 &lt;dbl&gt; | 4 &lt;dbl&gt; |\n",
       "|---|---|---|---|---|---|---|\n",
       "| 4-AS-L | 0 | 1 | 19.968777 |  9.961502 | 11.84776 | 18.26943 |\n",
       "| 4-AS-L | 1 | 1 | 10.237995 | 11.866664 | 10.10370 | 10.28141 |\n",
       "| 4-AS-L | 2 | 1 |  9.576127 | 11.413302 | 12.56488 | 12.41797 |\n",
       "| 4-AS-L | 3 | 1 |  9.823003 | 10.523239 | 14.36318 | 15.03666 |\n",
       "| 4-AS-L | 5 | 1 | 23.478374 | 18.186463 | 22.24349 | 19.14872 |\n",
       "\n",
       "\n",
       "3. \n",
       "A tibble: 5 × 7\n",
       "\n",
       "| group &lt;chr&gt; | day &lt;int&gt; | Laponite &lt;int&gt; | 1 &lt;dbl&gt; | 2 &lt;dbl&gt; | 3 &lt;dbl&gt; | 4 &lt;dbl&gt; |\n",
       "|---|---|---|---|---|---|---|\n",
       "| 6-AS | 0 | 0 | 11.189763 | 20.516154 | 11.34043 |  4.642216 |\n",
       "| 6-AS | 1 | 0 |  8.884473 | 11.340603 | 15.59907 | 19.792918 |\n",
       "| 6-AS | 2 | 0 | 16.806184 |  9.135387 | 13.74625 | 11.995402 |\n",
       "| 6-AS | 3 | 0 | 23.498569 | 11.416836 | 11.80760 | 15.055340 |\n",
       "| 6-AS | 5 | 0 | 32.990890 | 26.477730 | 18.47928 | 19.023516 |\n",
       "\n",
       "\n",
       "\n",
       "\n"
      ],
      "text/plain": [
       "<list_of<\n",
       "  tbl_df<\n",
       "    group   : character\n",
       "    day     : integer\n",
       "    Laponite: integer\n",
       "    1       : double\n",
       "    2       : double\n",
       "    3       : double\n",
       "    4       : double\n",
       "  >\n",
       ">[3]>\n",
       "[[1]]\n",
       "\u001b[90m# A tibble: 5 × 7\u001b[39m\n",
       "  group   day Laponite   `1`   `2`   `3`   `4`\n",
       "  \u001b[3m\u001b[90m<chr>\u001b[39m\u001b[23m \u001b[3m\u001b[90m<int>\u001b[39m\u001b[23m    \u001b[3m\u001b[90m<int>\u001b[39m\u001b[23m \u001b[3m\u001b[90m<dbl>\u001b[39m\u001b[23m \u001b[3m\u001b[90m<dbl>\u001b[39m\u001b[23m \u001b[3m\u001b[90m<dbl>\u001b[39m\u001b[23m \u001b[3m\u001b[90m<dbl>\u001b[39m\u001b[23m\n",
       "\u001b[90m1\u001b[39m 4-AS      0        0  14.2  38.3 12.4  10.6 \n",
       "\u001b[90m2\u001b[39m 4-AS      1        0  14.2  10.4 12.3  10.4 \n",
       "\u001b[90m3\u001b[39m 4-AS      2        0  13.9  11.0 11.9  11.4 \n",
       "\u001b[90m4\u001b[39m 4-AS      3        0  10.8  12.1  8.77  9.24\n",
       "\u001b[90m5\u001b[39m 4-AS      5        0  16.5  18.3 18.9  19.3 \n",
       "\n",
       "[[2]]\n",
       "\u001b[90m# A tibble: 5 × 7\u001b[39m\n",
       "  group    day Laponite   `1`   `2`   `3`   `4`\n",
       "  \u001b[3m\u001b[90m<chr>\u001b[39m\u001b[23m  \u001b[3m\u001b[90m<int>\u001b[39m\u001b[23m    \u001b[3m\u001b[90m<int>\u001b[39m\u001b[23m \u001b[3m\u001b[90m<dbl>\u001b[39m\u001b[23m \u001b[3m\u001b[90m<dbl>\u001b[39m\u001b[23m \u001b[3m\u001b[90m<dbl>\u001b[39m\u001b[23m \u001b[3m\u001b[90m<dbl>\u001b[39m\u001b[23m\n",
       "\u001b[90m1\u001b[39m 4-AS-L     0        1 20.0   9.96  11.8  18.3\n",
       "\u001b[90m2\u001b[39m 4-AS-L     1        1 10.2  11.9   10.1  10.3\n",
       "\u001b[90m3\u001b[39m 4-AS-L     2        1  9.58 11.4   12.6  12.4\n",
       "\u001b[90m4\u001b[39m 4-AS-L     3        1  9.82 10.5   14.4  15.0\n",
       "\u001b[90m5\u001b[39m 4-AS-L     5        1 23.5  18.2   22.2  19.1\n",
       "\n",
       "[[3]]\n",
       "\u001b[90m# A tibble: 5 × 7\u001b[39m\n",
       "  group   day Laponite   `1`   `2`   `3`   `4`\n",
       "  \u001b[3m\u001b[90m<chr>\u001b[39m\u001b[23m \u001b[3m\u001b[90m<int>\u001b[39m\u001b[23m    \u001b[3m\u001b[90m<int>\u001b[39m\u001b[23m \u001b[3m\u001b[90m<dbl>\u001b[39m\u001b[23m \u001b[3m\u001b[90m<dbl>\u001b[39m\u001b[23m \u001b[3m\u001b[90m<dbl>\u001b[39m\u001b[23m \u001b[3m\u001b[90m<dbl>\u001b[39m\u001b[23m\n",
       "\u001b[90m1\u001b[39m 6-AS      0        0 11.2  20.5   11.3  4.64\n",
       "\u001b[90m2\u001b[39m 6-AS      1        0  8.88 11.3   15.6 19.8 \n",
       "\u001b[90m3\u001b[39m 6-AS      2        0 16.8   9.14  13.7 12.0 \n",
       "\u001b[90m4\u001b[39m 6-AS      3        0 23.5  11.4   11.8 15.1 \n",
       "\u001b[90m5\u001b[39m 6-AS      5        0 33.0  26.5   18.5 19.0 \n"
      ]
     },
     "metadata": {},
     "output_type": "display_data"
    }
   ],
   "source": [
    "df_spread <- df %>% \n",
    "                group_by(group)%>% \n",
    "                  spread(sample, release)\n",
    "\n",
    "df_split <- group_split( df_spread )\n",
    "df_split"
   ]
  },
  {
   "cell_type": "markdown",
   "id": "dd32bf3b-15be-4c76-a40e-19121bd6a0eb",
   "metadata": {},
   "source": [
    "# Calculate Cumulative Sum by Group"
   ]
  },
  {
   "cell_type": "markdown",
   "id": "ae37b5d5-5262-480f-a86a-85fd811f7de6",
   "metadata": {},
   "source": [
    "From [statology.org](https://www.statology.org/r-cumulative-sum-by-group/)"
   ]
  },
  {
   "cell_type": "code",
   "execution_count": 8,
   "id": "87770bca-1b1e-4dfe-9cd9-43df7298d1a7",
   "metadata": {
    "tags": []
   },
   "outputs": [
    {
     "data": {
      "text/html": [
       "<table class=\"dataframe\">\n",
       "<caption>A grouped_df: 6 × 6</caption>\n",
       "<thead>\n",
       "\t<tr><th scope=col>group</th><th scope=col>sample</th><th scope=col>release</th><th scope=col>day</th><th scope=col>Laponite</th><th scope=col>cum_sum</th></tr>\n",
       "\t<tr><th scope=col>&lt;chr&gt;</th><th scope=col>&lt;int&gt;</th><th scope=col>&lt;dbl&gt;</th><th scope=col>&lt;int&gt;</th><th scope=col>&lt;int&gt;</th><th scope=col>&lt;dbl&gt;</th></tr>\n",
       "</thead>\n",
       "<tbody>\n",
       "\t<tr><td>4-AS  </td><td>1</td><td>14.187940</td><td>0</td><td>0</td><td>14.187940</td></tr>\n",
       "\t<tr><td>4-AS  </td><td>2</td><td>38.291608</td><td>0</td><td>0</td><td>38.291608</td></tr>\n",
       "\t<tr><td>4-AS  </td><td>3</td><td>12.406580</td><td>0</td><td>0</td><td>12.406580</td></tr>\n",
       "\t<tr><td>4-AS  </td><td>4</td><td>10.598519</td><td>0</td><td>0</td><td>10.598519</td></tr>\n",
       "\t<tr><td>4-AS-L</td><td>1</td><td>19.968777</td><td>0</td><td>1</td><td>19.968777</td></tr>\n",
       "\t<tr><td>4-AS-L</td><td>2</td><td> 9.961502</td><td>0</td><td>1</td><td> 9.961502</td></tr>\n",
       "</tbody>\n",
       "</table>\n"
      ],
      "text/latex": [
       "A grouped\\_df: 6 × 6\n",
       "\\begin{tabular}{llllll}\n",
       " group & sample & release & day & Laponite & cum\\_sum\\\\\n",
       " <chr> & <int> & <dbl> & <int> & <int> & <dbl>\\\\\n",
       "\\hline\n",
       "\t 4-AS   & 1 & 14.187940 & 0 & 0 & 14.187940\\\\\n",
       "\t 4-AS   & 2 & 38.291608 & 0 & 0 & 38.291608\\\\\n",
       "\t 4-AS   & 3 & 12.406580 & 0 & 0 & 12.406580\\\\\n",
       "\t 4-AS   & 4 & 10.598519 & 0 & 0 & 10.598519\\\\\n",
       "\t 4-AS-L & 1 & 19.968777 & 0 & 1 & 19.968777\\\\\n",
       "\t 4-AS-L & 2 &  9.961502 & 0 & 1 &  9.961502\\\\\n",
       "\\end{tabular}\n"
      ],
      "text/markdown": [
       "\n",
       "A grouped_df: 6 × 6\n",
       "\n",
       "| group &lt;chr&gt; | sample &lt;int&gt; | release &lt;dbl&gt; | day &lt;int&gt; | Laponite &lt;int&gt; | cum_sum &lt;dbl&gt; |\n",
       "|---|---|---|---|---|---|\n",
       "| 4-AS   | 1 | 14.187940 | 0 | 0 | 14.187940 |\n",
       "| 4-AS   | 2 | 38.291608 | 0 | 0 | 38.291608 |\n",
       "| 4-AS   | 3 | 12.406580 | 0 | 0 | 12.406580 |\n",
       "| 4-AS   | 4 | 10.598519 | 0 | 0 | 10.598519 |\n",
       "| 4-AS-L | 1 | 19.968777 | 0 | 1 | 19.968777 |\n",
       "| 4-AS-L | 2 |  9.961502 | 0 | 1 |  9.961502 |\n",
       "\n"
      ],
      "text/plain": [
       "  group  sample release   day Laponite cum_sum  \n",
       "1 4-AS   1      14.187940 0   0        14.187940\n",
       "2 4-AS   2      38.291608 0   0        38.291608\n",
       "3 4-AS   3      12.406580 0   0        12.406580\n",
       "4 4-AS   4      10.598519 0   0        10.598519\n",
       "5 4-AS-L 1      19.968777 0   1        19.968777\n",
       "6 4-AS-L 2       9.961502 0   1         9.961502"
      ]
     },
     "metadata": {},
     "output_type": "display_data"
    }
   ],
   "source": [
    "df <- df %>% \n",
    "        group_by(group, sample) %>% \n",
    "                mutate(cum_sum = cumsum(release))\n",
    "head(df)"
   ]
  },
  {
   "cell_type": "code",
   "execution_count": 9,
   "id": "3bfc2009-502f-4edc-9a50-a175f6cafced",
   "metadata": {
    "tags": []
   },
   "outputs": [],
   "source": [
    "fileoutput <- \"2023-03-28_GN011_data.csv\"\n",
    "\n",
    "write_csv(df, file = fileoutput)"
   ]
  },
  {
   "cell_type": "markdown",
   "id": "0ae3f021-3a7e-4988-9c27-69c0bbcd4862",
   "metadata": {
    "tags": []
   },
   "source": [
    "## Split data frame by groups "
   ]
  },
  {
   "cell_type": "markdown",
   "id": "1f16953d-d2cb-4cfa-a04c-59c0a0148d76",
   "metadata": {},
   "source": [
    "Drop `amount` column from dataframe"
   ]
  },
  {
   "cell_type": "code",
   "execution_count": 10,
   "id": "df30af4d-7da4-42b4-8a3e-b62b3961f880",
   "metadata": {
    "tags": []
   },
   "outputs": [
    {
     "data": {
      "text/html": [
       "<table class=\"dataframe\">\n",
       "<caption>A grouped_df: 6 × 5</caption>\n",
       "<thead>\n",
       "\t<tr><th scope=col>group</th><th scope=col>sample</th><th scope=col>day</th><th scope=col>Laponite</th><th scope=col>cum_sum</th></tr>\n",
       "\t<tr><th scope=col>&lt;chr&gt;</th><th scope=col>&lt;int&gt;</th><th scope=col>&lt;int&gt;</th><th scope=col>&lt;int&gt;</th><th scope=col>&lt;dbl&gt;</th></tr>\n",
       "</thead>\n",
       "<tbody>\n",
       "\t<tr><td>4-AS  </td><td>1</td><td>0</td><td>0</td><td>14.187940</td></tr>\n",
       "\t<tr><td>4-AS  </td><td>2</td><td>0</td><td>0</td><td>38.291608</td></tr>\n",
       "\t<tr><td>4-AS  </td><td>3</td><td>0</td><td>0</td><td>12.406580</td></tr>\n",
       "\t<tr><td>4-AS  </td><td>4</td><td>0</td><td>0</td><td>10.598519</td></tr>\n",
       "\t<tr><td>4-AS-L</td><td>1</td><td>0</td><td>1</td><td>19.968777</td></tr>\n",
       "\t<tr><td>4-AS-L</td><td>2</td><td>0</td><td>1</td><td> 9.961502</td></tr>\n",
       "</tbody>\n",
       "</table>\n"
      ],
      "text/latex": [
       "A grouped\\_df: 6 × 5\n",
       "\\begin{tabular}{lllll}\n",
       " group & sample & day & Laponite & cum\\_sum\\\\\n",
       " <chr> & <int> & <int> & <int> & <dbl>\\\\\n",
       "\\hline\n",
       "\t 4-AS   & 1 & 0 & 0 & 14.187940\\\\\n",
       "\t 4-AS   & 2 & 0 & 0 & 38.291608\\\\\n",
       "\t 4-AS   & 3 & 0 & 0 & 12.406580\\\\\n",
       "\t 4-AS   & 4 & 0 & 0 & 10.598519\\\\\n",
       "\t 4-AS-L & 1 & 0 & 1 & 19.968777\\\\\n",
       "\t 4-AS-L & 2 & 0 & 1 &  9.961502\\\\\n",
       "\\end{tabular}\n"
      ],
      "text/markdown": [
       "\n",
       "A grouped_df: 6 × 5\n",
       "\n",
       "| group &lt;chr&gt; | sample &lt;int&gt; | day &lt;int&gt; | Laponite &lt;int&gt; | cum_sum &lt;dbl&gt; |\n",
       "|---|---|---|---|---|\n",
       "| 4-AS   | 1 | 0 | 0 | 14.187940 |\n",
       "| 4-AS   | 2 | 0 | 0 | 38.291608 |\n",
       "| 4-AS   | 3 | 0 | 0 | 12.406580 |\n",
       "| 4-AS   | 4 | 0 | 0 | 10.598519 |\n",
       "| 4-AS-L | 1 | 0 | 1 | 19.968777 |\n",
       "| 4-AS-L | 2 | 0 | 1 |  9.961502 |\n",
       "\n"
      ],
      "text/plain": [
       "  group  sample day Laponite cum_sum  \n",
       "1 4-AS   1      0   0        14.187940\n",
       "2 4-AS   2      0   0        38.291608\n",
       "3 4-AS   3      0   0        12.406580\n",
       "4 4-AS   4      0   0        10.598519\n",
       "5 4-AS-L 1      0   1        19.968777\n",
       "6 4-AS-L 2      0   1         9.961502"
      ]
     },
     "metadata": {},
     "output_type": "display_data"
    }
   ],
   "source": [
    "df_cum = subset(df, select = -c(release) )\n",
    "head(df_cum)"
   ]
  },
  {
   "cell_type": "markdown",
   "id": "2d137ea0-62ae-48ff-af30-1031ed315450",
   "metadata": {},
   "source": [
    "From [dplyr tutorial](https://dplyr.tidyverse.org/reference/group_split.html)"
   ]
  },
  {
   "cell_type": "code",
   "execution_count": 11,
   "id": "e609c014-eefe-46c6-b7df-acd61ef0adde",
   "metadata": {
    "tags": []
   },
   "outputs": [
    {
     "data": {
      "text/html": [
       "<ol>\n",
       "\t<li><table class=\"dataframe\">\n",
       "<caption>A tibble: 5 × 7</caption>\n",
       "<thead>\n",
       "\t<tr><th scope=col>group</th><th scope=col>day</th><th scope=col>Laponite</th><th scope=col>1</th><th scope=col>2</th><th scope=col>3</th><th scope=col>4</th></tr>\n",
       "\t<tr><th scope=col>&lt;chr&gt;</th><th scope=col>&lt;int&gt;</th><th scope=col>&lt;int&gt;</th><th scope=col>&lt;dbl&gt;</th><th scope=col>&lt;dbl&gt;</th><th scope=col>&lt;dbl&gt;</th><th scope=col>&lt;dbl&gt;</th></tr>\n",
       "</thead>\n",
       "<tbody>\n",
       "\t<tr><td>4-AS</td><td>0</td><td>0</td><td>14.18794</td><td>38.29161</td><td>12.40658</td><td>10.59852</td></tr>\n",
       "\t<tr><td>4-AS</td><td>1</td><td>0</td><td>28.33807</td><td>48.67147</td><td>24.67763</td><td>20.98292</td></tr>\n",
       "\t<tr><td>4-AS</td><td>2</td><td>0</td><td>42.21911</td><td>59.64908</td><td>36.54127</td><td>32.40279</td></tr>\n",
       "\t<tr><td>4-AS</td><td>3</td><td>0</td><td>52.98973</td><td>71.74949</td><td>45.31518</td><td>41.64571</td></tr>\n",
       "\t<tr><td>4-AS</td><td>5</td><td>0</td><td>69.51067</td><td>90.05762</td><td>64.19027</td><td>60.89742</td></tr>\n",
       "</tbody>\n",
       "</table>\n",
       "</li>\n",
       "\t<li><table class=\"dataframe\">\n",
       "<caption>A tibble: 5 × 7</caption>\n",
       "<thead>\n",
       "\t<tr><th scope=col>group</th><th scope=col>day</th><th scope=col>Laponite</th><th scope=col>1</th><th scope=col>2</th><th scope=col>3</th><th scope=col>4</th></tr>\n",
       "\t<tr><th scope=col>&lt;chr&gt;</th><th scope=col>&lt;int&gt;</th><th scope=col>&lt;int&gt;</th><th scope=col>&lt;dbl&gt;</th><th scope=col>&lt;dbl&gt;</th><th scope=col>&lt;dbl&gt;</th><th scope=col>&lt;dbl&gt;</th></tr>\n",
       "</thead>\n",
       "<tbody>\n",
       "\t<tr><td>4-AS-L</td><td>0</td><td>1</td><td>19.96878</td><td> 9.961502</td><td>11.84776</td><td>18.26943</td></tr>\n",
       "\t<tr><td>4-AS-L</td><td>1</td><td>1</td><td>30.20677</td><td>21.828165</td><td>21.95146</td><td>28.55084</td></tr>\n",
       "\t<tr><td>4-AS-L</td><td>2</td><td>1</td><td>39.78290</td><td>33.241467</td><td>34.51634</td><td>40.96881</td></tr>\n",
       "\t<tr><td>4-AS-L</td><td>3</td><td>1</td><td>49.60590</td><td>43.764706</td><td>48.87952</td><td>56.00547</td></tr>\n",
       "\t<tr><td>4-AS-L</td><td>5</td><td>1</td><td>73.08428</td><td>61.951170</td><td>71.12302</td><td>75.15419</td></tr>\n",
       "</tbody>\n",
       "</table>\n",
       "</li>\n",
       "\t<li><table class=\"dataframe\">\n",
       "<caption>A tibble: 5 × 7</caption>\n",
       "<thead>\n",
       "\t<tr><th scope=col>group</th><th scope=col>day</th><th scope=col>Laponite</th><th scope=col>1</th><th scope=col>2</th><th scope=col>3</th><th scope=col>4</th></tr>\n",
       "\t<tr><th scope=col>&lt;chr&gt;</th><th scope=col>&lt;int&gt;</th><th scope=col>&lt;int&gt;</th><th scope=col>&lt;dbl&gt;</th><th scope=col>&lt;dbl&gt;</th><th scope=col>&lt;dbl&gt;</th><th scope=col>&lt;dbl&gt;</th></tr>\n",
       "</thead>\n",
       "<tbody>\n",
       "\t<tr><td>6-AS</td><td>0</td><td>0</td><td>11.18976</td><td>20.51615</td><td>11.34043</td><td> 4.642216</td></tr>\n",
       "\t<tr><td>6-AS</td><td>1</td><td>0</td><td>20.07424</td><td>31.85676</td><td>26.93951</td><td>24.435135</td></tr>\n",
       "\t<tr><td>6-AS</td><td>2</td><td>0</td><td>36.88042</td><td>40.99214</td><td>40.68575</td><td>36.430537</td></tr>\n",
       "\t<tr><td>6-AS</td><td>3</td><td>0</td><td>60.37899</td><td>52.40898</td><td>52.49335</td><td>51.485877</td></tr>\n",
       "\t<tr><td>6-AS</td><td>5</td><td>0</td><td>93.36988</td><td>78.88671</td><td>70.97263</td><td>70.509393</td></tr>\n",
       "</tbody>\n",
       "</table>\n",
       "</li>\n",
       "</ol>\n"
      ],
      "text/latex": [
       "\\begin{enumerate}\n",
       "\\item A tibble: 5 × 7\n",
       "\\begin{tabular}{lllllll}\n",
       " group & day & Laponite & 1 & 2 & 3 & 4\\\\\n",
       " <chr> & <int> & <int> & <dbl> & <dbl> & <dbl> & <dbl>\\\\\n",
       "\\hline\n",
       "\t 4-AS & 0 & 0 & 14.18794 & 38.29161 & 12.40658 & 10.59852\\\\\n",
       "\t 4-AS & 1 & 0 & 28.33807 & 48.67147 & 24.67763 & 20.98292\\\\\n",
       "\t 4-AS & 2 & 0 & 42.21911 & 59.64908 & 36.54127 & 32.40279\\\\\n",
       "\t 4-AS & 3 & 0 & 52.98973 & 71.74949 & 45.31518 & 41.64571\\\\\n",
       "\t 4-AS & 5 & 0 & 69.51067 & 90.05762 & 64.19027 & 60.89742\\\\\n",
       "\\end{tabular}\n",
       "\n",
       "\\item A tibble: 5 × 7\n",
       "\\begin{tabular}{lllllll}\n",
       " group & day & Laponite & 1 & 2 & 3 & 4\\\\\n",
       " <chr> & <int> & <int> & <dbl> & <dbl> & <dbl> & <dbl>\\\\\n",
       "\\hline\n",
       "\t 4-AS-L & 0 & 1 & 19.96878 &  9.961502 & 11.84776 & 18.26943\\\\\n",
       "\t 4-AS-L & 1 & 1 & 30.20677 & 21.828165 & 21.95146 & 28.55084\\\\\n",
       "\t 4-AS-L & 2 & 1 & 39.78290 & 33.241467 & 34.51634 & 40.96881\\\\\n",
       "\t 4-AS-L & 3 & 1 & 49.60590 & 43.764706 & 48.87952 & 56.00547\\\\\n",
       "\t 4-AS-L & 5 & 1 & 73.08428 & 61.951170 & 71.12302 & 75.15419\\\\\n",
       "\\end{tabular}\n",
       "\n",
       "\\item A tibble: 5 × 7\n",
       "\\begin{tabular}{lllllll}\n",
       " group & day & Laponite & 1 & 2 & 3 & 4\\\\\n",
       " <chr> & <int> & <int> & <dbl> & <dbl> & <dbl> & <dbl>\\\\\n",
       "\\hline\n",
       "\t 6-AS & 0 & 0 & 11.18976 & 20.51615 & 11.34043 &  4.642216\\\\\n",
       "\t 6-AS & 1 & 0 & 20.07424 & 31.85676 & 26.93951 & 24.435135\\\\\n",
       "\t 6-AS & 2 & 0 & 36.88042 & 40.99214 & 40.68575 & 36.430537\\\\\n",
       "\t 6-AS & 3 & 0 & 60.37899 & 52.40898 & 52.49335 & 51.485877\\\\\n",
       "\t 6-AS & 5 & 0 & 93.36988 & 78.88671 & 70.97263 & 70.509393\\\\\n",
       "\\end{tabular}\n",
       "\n",
       "\\end{enumerate}\n"
      ],
      "text/markdown": [
       "1. \n",
       "A tibble: 5 × 7\n",
       "\n",
       "| group &lt;chr&gt; | day &lt;int&gt; | Laponite &lt;int&gt; | 1 &lt;dbl&gt; | 2 &lt;dbl&gt; | 3 &lt;dbl&gt; | 4 &lt;dbl&gt; |\n",
       "|---|---|---|---|---|---|---|\n",
       "| 4-AS | 0 | 0 | 14.18794 | 38.29161 | 12.40658 | 10.59852 |\n",
       "| 4-AS | 1 | 0 | 28.33807 | 48.67147 | 24.67763 | 20.98292 |\n",
       "| 4-AS | 2 | 0 | 42.21911 | 59.64908 | 36.54127 | 32.40279 |\n",
       "| 4-AS | 3 | 0 | 52.98973 | 71.74949 | 45.31518 | 41.64571 |\n",
       "| 4-AS | 5 | 0 | 69.51067 | 90.05762 | 64.19027 | 60.89742 |\n",
       "\n",
       "\n",
       "2. \n",
       "A tibble: 5 × 7\n",
       "\n",
       "| group &lt;chr&gt; | day &lt;int&gt; | Laponite &lt;int&gt; | 1 &lt;dbl&gt; | 2 &lt;dbl&gt; | 3 &lt;dbl&gt; | 4 &lt;dbl&gt; |\n",
       "|---|---|---|---|---|---|---|\n",
       "| 4-AS-L | 0 | 1 | 19.96878 |  9.961502 | 11.84776 | 18.26943 |\n",
       "| 4-AS-L | 1 | 1 | 30.20677 | 21.828165 | 21.95146 | 28.55084 |\n",
       "| 4-AS-L | 2 | 1 | 39.78290 | 33.241467 | 34.51634 | 40.96881 |\n",
       "| 4-AS-L | 3 | 1 | 49.60590 | 43.764706 | 48.87952 | 56.00547 |\n",
       "| 4-AS-L | 5 | 1 | 73.08428 | 61.951170 | 71.12302 | 75.15419 |\n",
       "\n",
       "\n",
       "3. \n",
       "A tibble: 5 × 7\n",
       "\n",
       "| group &lt;chr&gt; | day &lt;int&gt; | Laponite &lt;int&gt; | 1 &lt;dbl&gt; | 2 &lt;dbl&gt; | 3 &lt;dbl&gt; | 4 &lt;dbl&gt; |\n",
       "|---|---|---|---|---|---|---|\n",
       "| 6-AS | 0 | 0 | 11.18976 | 20.51615 | 11.34043 |  4.642216 |\n",
       "| 6-AS | 1 | 0 | 20.07424 | 31.85676 | 26.93951 | 24.435135 |\n",
       "| 6-AS | 2 | 0 | 36.88042 | 40.99214 | 40.68575 | 36.430537 |\n",
       "| 6-AS | 3 | 0 | 60.37899 | 52.40898 | 52.49335 | 51.485877 |\n",
       "| 6-AS | 5 | 0 | 93.36988 | 78.88671 | 70.97263 | 70.509393 |\n",
       "\n",
       "\n",
       "\n",
       "\n"
      ],
      "text/plain": [
       "<list_of<\n",
       "  tbl_df<\n",
       "    group   : character\n",
       "    day     : integer\n",
       "    Laponite: integer\n",
       "    1       : double\n",
       "    2       : double\n",
       "    3       : double\n",
       "    4       : double\n",
       "  >\n",
       ">[3]>\n",
       "[[1]]\n",
       "\u001b[90m# A tibble: 5 × 7\u001b[39m\n",
       "  group   day Laponite   `1`   `2`   `3`   `4`\n",
       "  \u001b[3m\u001b[90m<chr>\u001b[39m\u001b[23m \u001b[3m\u001b[90m<int>\u001b[39m\u001b[23m    \u001b[3m\u001b[90m<int>\u001b[39m\u001b[23m \u001b[3m\u001b[90m<dbl>\u001b[39m\u001b[23m \u001b[3m\u001b[90m<dbl>\u001b[39m\u001b[23m \u001b[3m\u001b[90m<dbl>\u001b[39m\u001b[23m \u001b[3m\u001b[90m<dbl>\u001b[39m\u001b[23m\n",
       "\u001b[90m1\u001b[39m 4-AS      0        0  14.2  38.3  12.4  10.6\n",
       "\u001b[90m2\u001b[39m 4-AS      1        0  28.3  48.7  24.7  21.0\n",
       "\u001b[90m3\u001b[39m 4-AS      2        0  42.2  59.6  36.5  32.4\n",
       "\u001b[90m4\u001b[39m 4-AS      3        0  53.0  71.7  45.3  41.6\n",
       "\u001b[90m5\u001b[39m 4-AS      5        0  69.5  90.1  64.2  60.9\n",
       "\n",
       "[[2]]\n",
       "\u001b[90m# A tibble: 5 × 7\u001b[39m\n",
       "  group    day Laponite   `1`   `2`   `3`   `4`\n",
       "  \u001b[3m\u001b[90m<chr>\u001b[39m\u001b[23m  \u001b[3m\u001b[90m<int>\u001b[39m\u001b[23m    \u001b[3m\u001b[90m<int>\u001b[39m\u001b[23m \u001b[3m\u001b[90m<dbl>\u001b[39m\u001b[23m \u001b[3m\u001b[90m<dbl>\u001b[39m\u001b[23m \u001b[3m\u001b[90m<dbl>\u001b[39m\u001b[23m \u001b[3m\u001b[90m<dbl>\u001b[39m\u001b[23m\n",
       "\u001b[90m1\u001b[39m 4-AS-L     0        1  20.0  9.96  11.8  18.3\n",
       "\u001b[90m2\u001b[39m 4-AS-L     1        1  30.2 21.8   22.0  28.6\n",
       "\u001b[90m3\u001b[39m 4-AS-L     2        1  39.8 33.2   34.5  41.0\n",
       "\u001b[90m4\u001b[39m 4-AS-L     3        1  49.6 43.8   48.9  56.0\n",
       "\u001b[90m5\u001b[39m 4-AS-L     5        1  73.1 62.0   71.1  75.2\n",
       "\n",
       "[[3]]\n",
       "\u001b[90m# A tibble: 5 × 7\u001b[39m\n",
       "  group   day Laponite   `1`   `2`   `3`   `4`\n",
       "  \u001b[3m\u001b[90m<chr>\u001b[39m\u001b[23m \u001b[3m\u001b[90m<int>\u001b[39m\u001b[23m    \u001b[3m\u001b[90m<int>\u001b[39m\u001b[23m \u001b[3m\u001b[90m<dbl>\u001b[39m\u001b[23m \u001b[3m\u001b[90m<dbl>\u001b[39m\u001b[23m \u001b[3m\u001b[90m<dbl>\u001b[39m\u001b[23m \u001b[3m\u001b[90m<dbl>\u001b[39m\u001b[23m\n",
       "\u001b[90m1\u001b[39m 6-AS      0        0  11.2  20.5  11.3  4.64\n",
       "\u001b[90m2\u001b[39m 6-AS      1        0  20.1  31.9  26.9 24.4 \n",
       "\u001b[90m3\u001b[39m 6-AS      2        0  36.9  41.0  40.7 36.4 \n",
       "\u001b[90m4\u001b[39m 6-AS      3        0  60.4  52.4  52.5 51.5 \n",
       "\u001b[90m5\u001b[39m 6-AS      5        0  93.4  78.9  71.0 70.5 \n"
      ]
     },
     "metadata": {},
     "output_type": "display_data"
    }
   ],
   "source": [
    "df_spread <- df_cum %>% \n",
    "                group_by(group)%>% \n",
    "                  spread(sample, cum_sum)\n",
    "\n",
    "df_split <- group_split( df_spread )\n",
    "df_split"
   ]
  },
  {
   "cell_type": "code",
   "execution_count": null,
   "id": "b74c9d02-b69c-48df-8066-2596ea1bffdf",
   "metadata": {},
   "outputs": [],
   "source": []
  }
 ],
 "metadata": {
  "kernelspec": {
   "display_name": "R",
   "language": "R",
   "name": "ir"
  },
  "language_info": {
   "codemirror_mode": "r",
   "file_extension": ".r",
   "mimetype": "text/x-r-source",
   "name": "R",
   "pygments_lexer": "r",
   "version": "4.2.3"
  }
 },
 "nbformat": 4,
 "nbformat_minor": 5
}
