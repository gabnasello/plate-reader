{
 "cells": [
  {
   "cell_type": "markdown",
   "id": "e6d94ec4-0e60-470b-b2e0-d7ed5f3505f3",
   "metadata": {},
   "source": [
    "<span STYLE=\"font-size:150%\"> \n",
    "    Make calibration curve from standard samples\n",
    "</span>\n",
    "\n",
    "Docker image: gnasello/datascience-env:2023-03-30 \\\n",
    "Latest update: 31 March 2023"
   ]
  },
  {
   "cell_type": "markdown",
   "id": "18782b3e-d301-4b9f-9e65-9597997d1a35",
   "metadata": {},
   "source": [
    "# Load libraries"
   ]
  },
  {
   "cell_type": "code",
   "execution_count": null,
   "id": "e7be9532-9858-439e-8ac6-4f1a9d70c54b",
   "metadata": {
    "tags": [],
    "vscode": {
     "languageId": "r"
    }
   },
   "outputs": [],
   "source": [
    "library(ggplot2)\n",
    "library(latex2exp)\n",
    "library(ggpubr)\n",
    "library(yaml)\n",
    "library(readxl)"
   ]
  },
  {
   "cell_type": "markdown",
   "id": "3355bd36-2e8d-4349-82db-e9197f4ee6b9",
   "metadata": {},
   "source": [
    "Clone the [r_utils library](https://github.com/gabnasello/r_utils.git) from GitHub in the same folder of this script. \n",
    "\n",
    "You can simply running the following command in a new terminal (open it from JupyterLab):\n",
    "\n",
    "`git clone https://github.com/gabnasello/r_utils.git`\n",
    "\n",
    "How to Reuse Functions That You Create In Scripts, [tutorial](https://www.earthdatascience.org/courses/earth-analytics/multispectral-remote-sensing-data/source-function-in-R/)"
   ]
  },
  {
   "cell_type": "code",
   "execution_count": null,
   "id": "69df05de-f9c9-428b-b2bd-6e4eb9455efa",
   "metadata": {
    "tags": [],
    "vscode": {
     "languageId": "r"
    }
   },
   "outputs": [],
   "source": [
    "source(\"r_utils/ggplot_utils.R\")"
   ]
  },
  {
   "cell_type": "markdown",
   "id": "5b14d2ad-b85c-447d-bac1-93c908c3050c",
   "metadata": {},
   "source": [
    "# Reading data"
   ]
  },
  {
   "cell_type": "code",
   "execution_count": null,
   "id": "e659089a-3f22-479a-8dd6-dfdffe13c6de",
   "metadata": {
    "tags": [],
    "vscode": {
     "languageId": "r"
    }
   },
   "outputs": [],
   "source": [
    "filename <- \"data/2023-03-28_GN011.xlsx\""
   ]
  },
  {
   "cell_type": "code",
   "execution_count": null,
   "id": "a68cd83f-f334-4284-9fc3-a8f52803fbb8",
   "metadata": {
    "tags": [],
    "vscode": {
     "languageId": "r"
    }
   },
   "outputs": [],
   "source": [
    "df <- read_excel(filename)\n",
    "\n",
    "# Import Excel Data into R Dataframe\n",
    "df <- data.frame(df)\n",
    "head(df)"
   ]
  },
  {
   "cell_type": "markdown",
   "id": "c253e9c2-c077-4bf5-87f6-a10dbca432dd",
   "metadata": {},
   "source": [
    "Remove df rows where the `Well.ID` columns is `NA`"
   ]
  },
  {
   "cell_type": "code",
   "execution_count": null,
   "id": "944184e0-f771-43ed-b1dd-fadc9452a118",
   "metadata": {
    "tags": [],
    "vscode": {
     "languageId": "r"
    }
   },
   "outputs": [],
   "source": [
    "df <- df[complete.cases(df$Well.ID),]\n",
    "head(df)"
   ]
  },
  {
   "cell_type": "markdown",
   "id": "38e066b3-7161-4390-b74e-1ef7dae88e59",
   "metadata": {},
   "source": [
    "# Select standard samples"
   ]
  },
  {
   "cell_type": "code",
   "execution_count": null,
   "id": "8a3dee13-f377-48df-b108-9efda4a0f787",
   "metadata": {
    "tags": [],
    "vscode": {
     "languageId": "r"
    }
   },
   "outputs": [],
   "source": [
    "prefix <- 'STD'"
   ]
  },
  {
   "cell_type": "code",
   "execution_count": null,
   "id": "ee8d1963-fc8c-4580-ab5e-0bb4bf261252",
   "metadata": {
    "tags": [],
    "vscode": {
     "languageId": "r"
    }
   },
   "outputs": [],
   "source": [
    "condition <- startsWith(df$Well.ID, prefix)\n",
    "\n",
    "df_std <- df[condition,]\n",
    "df_std"
   ]
  },
  {
   "cell_type": "markdown",
   "id": "e464514b-64df-446d-b101-38687239b49a",
   "metadata": {},
   "source": [
    "# Subtract blank from `Mean` values"
   ]
  },
  {
   "cell_type": "code",
   "execution_count": null,
   "id": "c6bde833-dd40-4584-882c-19fe6fa95c46",
   "metadata": {
    "tags": [],
    "vscode": {
     "languageId": "r"
    }
   },
   "outputs": [],
   "source": [
    "df_std$Mean_blnk <- df_std$Mean - df_std[df_std$Conc.Dil == 0, 'Mean']\n",
    "df_std"
   ]
  },
  {
   "cell_type": "markdown",
   "id": "a98c7f43-ca8e-4bd1-af47-e3d9040c96d8",
   "metadata": {},
   "source": [
    "Subtract blank from `Mean` values of the entire dataset"
   ]
  },
  {
   "cell_type": "code",
   "execution_count": null,
   "id": "11b9ebfe-44df-4d17-b4e8-143312bc738f",
   "metadata": {
    "tags": [],
    "vscode": {
     "languageId": "r"
    }
   },
   "outputs": [],
   "source": [
    "df$Mean_blnk <- df$Mean - df_std[df_std$Conc.Dil == 0, 'Mean']\n",
    "head(df)"
   ]
  },
  {
   "cell_type": "markdown",
   "id": "d71c9fe7-f03c-4427-b45e-8373d22f3d3d",
   "metadata": {},
   "source": [
    "Overwrite initial dataset after subtracting the blank value"
   ]
  },
  {
   "cell_type": "code",
   "execution_count": null,
   "id": "9a8a6798-8d31-4efc-b7ef-6cabb879d04d",
   "metadata": {
    "tags": [],
    "vscode": {
     "languageId": "r"
    }
   },
   "outputs": [],
   "source": [
    "new_filename <- paste(tools::file_path_sans_ext(filename), '.csv', sep='')\n",
    "new_filename"
   ]
  },
  {
   "cell_type": "code",
   "execution_count": null,
   "id": "ef32c1b5-f2df-4a87-a664-e0858cc94389",
   "metadata": {
    "tags": [],
    "vscode": {
     "languageId": "r"
    }
   },
   "outputs": [],
   "source": [
    "write.csv(df, new_filename, row.names=FALSE)"
   ]
  },
  {
   "cell_type": "markdown",
   "id": "e78cc57f-0604-41f2-b673-5670013ca9a5",
   "metadata": {},
   "source": [
    "# Plot calibration data"
   ]
  },
  {
   "cell_type": "code",
   "execution_count": null,
   "id": "7f5c9c65-976c-4db8-8a04-10c2139b84bd",
   "metadata": {
    "tags": [],
    "vscode": {
     "languageId": "r"
    }
   },
   "outputs": [],
   "source": [
    "p <- ggplot(df_std, aes(x=Conc.Dil, y=Mean_blnk)) + geom_point(size=1.5)\n",
    "\n",
    "img <- ggplotMinAethetics(p, width=4, height=3.25,\n",
    "                          title='Calibration curve',\n",
    "                          xlabel=TeX('Concentration [$\\\\mu$g/ml]'), \n",
    "                          ylabel='Emission (AU)', \n",
    "                          scale_color='npg')\n",
    "img"
   ]
  },
  {
   "cell_type": "code",
   "execution_count": null,
   "id": "3339facc-b688-4092-9e77-5998492b4e49",
   "metadata": {
    "tags": [],
    "vscode": {
     "languageId": "r"
    }
   },
   "outputs": [],
   "source": [
    "p <- ggplot(df_std, aes(x=Mean_blnk, y=Conc.Dil)) + geom_point(size=1.5)\n",
    "\n",
    "img <- ggplotMinAethetics(p, width=4, height=3.25,\n",
    "                          title='Calibration curve',\n",
    "                          ylabel=TeX('Concentration [$\\\\mu$g/ml]'), \n",
    "                          xlabel='Emission (AU)', \n",
    "                          scale_color='npg')\n",
    "img"
   ]
  },
  {
   "cell_type": "markdown",
   "id": "68185341-eb88-412a-8886-d2cdede5dbb3",
   "metadata": {},
   "source": [
    "# Linear regression"
   ]
  },
  {
   "cell_type": "markdown",
   "id": "c6d76c25-2e1e-4f8f-87d5-2df093abb45c",
   "metadata": {},
   "source": [
    "Set the **intercept** of the linear model to **zero**"
   ]
  },
  {
   "cell_type": "code",
   "execution_count": null,
   "id": "ba168e0a-5f67-4dc5-b628-bf3f869fda51",
   "metadata": {
    "tags": [],
    "vscode": {
     "languageId": "r"
    }
   },
   "outputs": [],
   "source": [
    "# Build the linear model\n",
    "model  <- lm(Conc.Dil ~ Mean_blnk + 0, data = df_std)\n",
    "summary(model)"
   ]
  },
  {
   "cell_type": "code",
   "execution_count": null,
   "id": "5d638bb8-2be7-4d00-8a75-d8d6bffe42e8",
   "metadata": {
    "tags": [],
    "vscode": {
     "languageId": "r"
    }
   },
   "outputs": [],
   "source": [
    "p <- ggplot(df_std, aes(x=Mean_blnk, y=Conc.Dil)) + geom_point(size=1.5) + \n",
    "     geom_abline(slope = coef(model)[[\"Mean_blnk\"]], \n",
    "                 intercept = 0, color='turquoise4', linewidth=1.1)\n",
    "\n",
    "img <- ggplotMinAethetics(p, width=4, height=3.25,\n",
    "                          title='Calibration curve',\n",
    "                          ylabel=TeX('Concentration ($\\\\mu$g/ml)'), \n",
    "                          xlabel='Emission (AU)', \n",
    "                          scale_color='npg') +\n",
    "       ylim(0, 58)\n",
    "img"
   ]
  },
  {
   "cell_type": "markdown",
   "id": "7f1a728b-9752-4d77-b329-19a727147e25",
   "metadata": {},
   "source": [
    "# Save model"
   ]
  },
  {
   "cell_type": "code",
   "execution_count": null,
   "id": "25dfa3e3-51b9-4cad-b0af-24239005fad5",
   "metadata": {
    "tags": [],
    "vscode": {
     "languageId": "r"
    }
   },
   "outputs": [],
   "source": [
    "saveRDS(model, \"calibration.rds\")"
   ]
  },
  {
   "cell_type": "code",
   "execution_count": null,
   "id": "cead7c13-17a3-46e0-b142-733d62993e56",
   "metadata": {
    "vscode": {
     "languageId": "r"
    }
   },
   "outputs": [],
   "source": []
  }
 ],
 "metadata": {
  "kernelspec": {
   "display_name": "R",
   "language": "R",
   "name": "ir"
  },
  "language_info": {
   "codemirror_mode": "r",
   "file_extension": ".r",
   "mimetype": "text/x-r-source",
   "name": "R",
   "pygments_lexer": "r",
   "version": "4.2.3"
  }
 },
 "nbformat": 4,
 "nbformat_minor": 5
}
