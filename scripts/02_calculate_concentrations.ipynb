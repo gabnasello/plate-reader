{
 "cells": [
  {
   "cell_type": "markdown",
   "id": "e6d94ec4-0e60-470b-b2e0-d7ed5f3505f3",
   "metadata": {},
   "source": [
    "<span STYLE=\"font-size:150%\"> \n",
    "    Calculate concentrations from emission data\n",
    "</span>\n",
    "\n",
    "Docker image: gnasello/datascience-env:2023-03-30 \\\n",
    "Latest update: 31 March 2023"
   ]
  },
  {
   "cell_type": "markdown",
   "id": "18782b3e-d301-4b9f-9e65-9597997d1a35",
   "metadata": {},
   "source": [
    "# Load libraries"
   ]
  },
  {
   "cell_type": "code",
   "execution_count": null,
   "id": "e7be9532-9858-439e-8ac6-4f1a9d70c54b",
   "metadata": {
    "tags": [],
    "vscode": {
     "languageId": "r"
    }
   },
   "outputs": [],
   "source": [
    "library(ggplot2)\n",
    "library(latex2exp)\n",
    "library(ggpubr)\n",
    "library(yaml)\n",
    "library(dplyr)"
   ]
  },
  {
   "cell_type": "markdown",
   "id": "3355bd36-2e8d-4349-82db-e9197f4ee6b9",
   "metadata": {},
   "source": [
    "Clone the [r_utils library](https://github.com/gabnasello/r_utils.git) from GitHub in the same folder of this script. \n",
    "\n",
    "You can simply running the following command in a new terminal (open it from JupyterLab):\n",
    "\n",
    "`git clone https://github.com/gabnasello/r_utils.git`\n",
    "\n",
    "How to Reuse Functions That You Create In Scripts, [tutorial](https://www.earthdatascience.org/courses/earth-analytics/multispectral-remote-sensing-data/source-function-in-R/)"
   ]
  },
  {
   "cell_type": "code",
   "execution_count": null,
   "id": "69df05de-f9c9-428b-b2bd-6e4eb9455efa",
   "metadata": {
    "tags": [],
    "vscode": {
     "languageId": "r"
    }
   },
   "outputs": [],
   "source": [
    "source(\"r_utils/ggplot_utils.R\")"
   ]
  },
  {
   "cell_type": "markdown",
   "id": "5b14d2ad-b85c-447d-bac1-93c908c3050c",
   "metadata": {},
   "source": [
    "# Reading data"
   ]
  },
  {
   "cell_type": "markdown",
   "id": "1264af80-ab40-4da5-b5ca-c3b83a871c5f",
   "metadata": {
    "tags": []
   },
   "source": [
    "<span style=\"color:red\">**User Input**</span>"
   ]
  },
  {
   "cell_type": "code",
   "execution_count": null,
   "id": "c95d1bf8-0efc-4e50-8c67-bec2adebe688",
   "metadata": {
    "tags": [],
    "vscode": {
     "languageId": "r"
    }
   },
   "outputs": [],
   "source": [
    "filename <- \"data/2023-03-28_GN011.csv\""
   ]
  },
  {
   "cell_type": "code",
   "execution_count": null,
   "id": "63632c8d-98d9-4487-b19b-c6f8e3fcd20f",
   "metadata": {
    "tags": [],
    "vscode": {
     "languageId": "r"
    }
   },
   "outputs": [],
   "source": [
    "# Import the data and look at the first six rows\n",
    "df <- read.csv(file = filename)\n",
    "head(df)"
   ]
  },
  {
   "cell_type": "markdown",
   "id": "38e066b3-7161-4390-b74e-1ef7dae88e59",
   "metadata": {},
   "source": [
    "# Select standard samples"
   ]
  },
  {
   "cell_type": "code",
   "execution_count": null,
   "id": "8a3dee13-f377-48df-b108-9efda4a0f787",
   "metadata": {
    "tags": [],
    "vscode": {
     "languageId": "r"
    }
   },
   "outputs": [],
   "source": [
    "prefix <- 'SPL'"
   ]
  },
  {
   "cell_type": "code",
   "execution_count": null,
   "id": "ee8d1963-fc8c-4580-ab5e-0bb4bf261252",
   "metadata": {
    "tags": [],
    "vscode": {
     "languageId": "r"
    }
   },
   "outputs": [],
   "source": [
    "condition <- startsWith(df$Well.ID, prefix)\n",
    "\n",
    "df_spl <- df[condition,]\n",
    "head(df_spl)"
   ]
  },
  {
   "cell_type": "markdown",
   "id": "5a94e564-a409-4bd3-b5b9-33ba02b548d6",
   "metadata": {},
   "source": [
    "# Calculate concentrations"
   ]
  },
  {
   "cell_type": "markdown",
   "id": "ed0727b7-d648-4383-bd17-d403884063b0",
   "metadata": {},
   "source": [
    "Determine sample dilution"
   ]
  },
  {
   "cell_type": "markdown",
   "id": "070cee00-d4d5-40da-80e8-b66cec40ef9a",
   "metadata": {},
   "source": [
    "<span style=\"color:red\">**User Input**</span>"
   ]
  },
  {
   "cell_type": "code",
   "execution_count": null,
   "id": "de0074a0-af45-4f8c-90ff-e6e1f7770b70",
   "metadata": {
    "tags": [],
    "vscode": {
     "languageId": "r"
    }
   },
   "outputs": [],
   "source": [
    "dilution = 4"
   ]
  },
  {
   "cell_type": "markdown",
   "id": "149c9561-118b-47d0-8357-2b1f264e709e",
   "metadata": {},
   "source": [
    "## Load regression model of the calibration curve"
   ]
  },
  {
   "cell_type": "code",
   "execution_count": null,
   "id": "15adcf43-9a78-4e1c-ad6b-78332b547f14",
   "metadata": {
    "tags": [],
    "vscode": {
     "languageId": "r"
    }
   },
   "outputs": [],
   "source": [
    "model <- readRDS(\"calibration.rds\")\n",
    "model"
   ]
  },
  {
   "cell_type": "markdown",
   "id": "9f6f1b61-003b-467c-8c46-c6e74163c441",
   "metadata": {},
   "source": [
    "## Compute concentrations based on calibration curve"
   ]
  },
  {
   "cell_type": "markdown",
   "id": "efaf743c-1caa-4e4f-90ad-08876c1e9549",
   "metadata": {},
   "source": [
    "Of the samples"
   ]
  },
  {
   "cell_type": "code",
   "execution_count": null,
   "id": "8a762fb4-870d-43ef-980c-daf1a2ae8fde",
   "metadata": {
    "tags": [],
    "vscode": {
     "languageId": "r"
    }
   },
   "outputs": [],
   "source": [
    "sampledata <- df_spl %>% select(Mean_blnk)\n",
    "\n",
    "df_spl$concentration <- predict(model, sampledata) * dilution\n",
    "head(df_spl)"
   ]
  },
  {
   "cell_type": "markdown",
   "id": "53b5d81e-76fb-4504-b9cb-213a30253dce",
   "metadata": {},
   "source": [
    "Of the whole dataset"
   ]
  },
  {
   "cell_type": "code",
   "execution_count": null,
   "id": "750afc78-5c24-4ee2-b1f5-c2141de2eccb",
   "metadata": {
    "tags": [],
    "vscode": {
     "languageId": "r"
    }
   },
   "outputs": [],
   "source": [
    "newdata <- df %>% select(Mean_blnk)\n",
    "\n",
    "df$concentration <- predict(model, newdata) * dilution\n",
    "head(df)"
   ]
  },
  {
   "cell_type": "markdown",
   "id": "60a0d119-fd13-4572-8fdf-a02a9df1208f",
   "metadata": {},
   "source": [
    "## Save data"
   ]
  },
  {
   "cell_type": "markdown",
   "id": "de5b1b9f-5e85-444f-b8bd-1b157373a4ef",
   "metadata": {},
   "source": [
    "Overwrite initial dataset after calculating the sample concentration"
   ]
  },
  {
   "cell_type": "code",
   "execution_count": null,
   "id": "0d69a2bf-be64-4ba2-916c-7e8361e66671",
   "metadata": {
    "tags": [],
    "vscode": {
     "languageId": "r"
    }
   },
   "outputs": [],
   "source": [
    "write.csv(df, filename, row.names=FALSE)"
   ]
  },
  {
   "cell_type": "markdown",
   "id": "d7c4a2a2-885b-4100-9165-ff8857686baf",
   "metadata": {},
   "source": [
    "# Calculate amount (percentage) released"
   ]
  },
  {
   "cell_type": "markdown",
   "id": "d78f400a-e910-4721-a7db-76e5b32a50c3",
   "metadata": {},
   "source": [
    "## Get the volume of the released media for each sample tested"
   ]
  },
  {
   "cell_type": "markdown",
   "id": "891c0d71-cbcd-4786-9104-284259aa54f7",
   "metadata": {},
   "source": [
    "Prepare and load the `sample_info.csv` file"
   ]
  },
  {
   "cell_type": "code",
   "execution_count": null,
   "id": "874d091e-f21d-4a06-bb7d-41133c52aa08",
   "metadata": {
    "tags": [],
    "vscode": {
     "languageId": "r"
    }
   },
   "outputs": [],
   "source": [
    "info_file <- \"data/samples_info.csv\""
   ]
  },
  {
   "cell_type": "code",
   "execution_count": null,
   "id": "4f95df55-9fd8-4f87-b634-d7739bca2e6b",
   "metadata": {
    "tags": [],
    "vscode": {
     "languageId": "r"
    }
   },
   "outputs": [],
   "source": [
    "# Import the data and look at the first six rows\n",
    "df_info <- read.csv(file = info_file)\n",
    "head(df_info)"
   ]
  },
  {
   "cell_type": "markdown",
   "id": "cbe7f4a7-adf0-4692-842c-7cc9b170d8c7",
   "metadata": {},
   "source": [
    "Merge `df` and `df_info` using the sample ID info and droppoing the not sample data in `df` "
   ]
  },
  {
   "cell_type": "code",
   "execution_count": null,
   "id": "e884121c-3c1e-4270-84b6-521025843973",
   "metadata": {
    "tags": [],
    "vscode": {
     "languageId": "r"
    }
   },
   "outputs": [],
   "source": [
    "df_release <- merge(df_spl, df_info, by = \"Well.ID\", \n",
    "                   all.x = FALSE, all.y = FALSE, sort=FALSE)\n",
    "head (df_release)"
   ]
  },
  {
   "cell_type": "markdown",
   "id": "0b431f43-ecbc-48a6-81e2-5738c89d1c31",
   "metadata": {},
   "source": [
    "Alternatively, you can select a volume value equal for all samples by uncommenting the cell below"
   ]
  },
  {
   "cell_type": "code",
   "execution_count": null,
   "id": "b1c49f6e-d685-4f5e-99f6-ace0767b7ac3",
   "metadata": {
    "tags": [],
    "vscode": {
     "languageId": "r"
    }
   },
   "outputs": [],
   "source": [
    "# volume_sample <- 0.450 #mul\n",
    "# df$volume <- volume_sample"
   ]
  },
  {
   "cell_type": "markdown",
   "id": "c2f8a865-648f-4bb6-abc4-f74382c6bd28",
   "metadata": {},
   "source": [
    "## Compute amounts (percentage) released"
   ]
  },
  {
   "cell_type": "markdown",
   "id": "3750569d-3471-460d-b4cf-26bf9fdb856e",
   "metadata": {},
   "source": [
    "<span style=\"color:red\">**User Input**</span>"
   ]
  },
  {
   "cell_type": "code",
   "execution_count": null,
   "id": "28ea8c2b-298a-47fe-84e1-91616a09b031",
   "metadata": {
    "tags": [],
    "vscode": {
     "languageId": "r"
    }
   },
   "outputs": [],
   "source": [
    "drug_amount = 200 #ug"
   ]
  },
  {
   "cell_type": "code",
   "execution_count": null,
   "id": "1d89b342-87b9-4134-9380-004434d6d47c",
   "metadata": {
    "tags": [],
    "vscode": {
     "languageId": "r"
    }
   },
   "outputs": [],
   "source": [
    "df_release$release = df_release$concentration * df_release$volume / drug_amount * 100\n",
    "head(df_release)"
   ]
  },
  {
   "cell_type": "markdown",
   "id": "46e0da0f-92f7-460d-931a-58764bb7b931",
   "metadata": {},
   "source": [
    "## Save data"
   ]
  },
  {
   "cell_type": "markdown",
   "id": "c4cda3f6-85c3-4443-baee-7e22c56d5d30",
   "metadata": {},
   "source": [
    "Overwrite initial dataset after calculating the amount of drug released at each timepoint"
   ]
  },
  {
   "cell_type": "code",
   "execution_count": null,
   "id": "bf3ccdbe-bcbb-4502-a872-845ed4b9ca85",
   "metadata": {
    "tags": [],
    "vscode": {
     "languageId": "r"
    }
   },
   "outputs": [],
   "source": [
    "new_filename <- paste(tools::file_path_sans_ext(filename), '_release.csv', sep='')\n",
    "new_filename"
   ]
  },
  {
   "cell_type": "code",
   "execution_count": null,
   "id": "6678e865-daf4-43ed-b2ee-b7291a3bcc56",
   "metadata": {
    "tags": [],
    "vscode": {
     "languageId": "r"
    }
   },
   "outputs": [],
   "source": [
    "write.csv(df_release, new_filename, row.names=FALSE)"
   ]
  },
  {
   "cell_type": "markdown",
   "id": "05375c12-65bf-4f53-8be0-e0493c6c287d",
   "metadata": {},
   "source": [
    "# Info on units"
   ]
  },
  {
   "cell_type": "markdown",
   "id": "fc9e3910-a48b-4508-b8c1-8e04b7860a38",
   "metadata": {},
   "source": [
    "If the concentration of the standard samples used to build the calibration curve is in *ug/ml*, then:\n",
    "\n",
    "1. `df$concentration` is also in  ug/ml\n",
    "2. `df$volume` must be in ml\n",
    "3. `df$release` is in % of the total drug loaded into the gel"
   ]
  },
  {
   "cell_type": "code",
   "execution_count": null,
   "id": "0320b02e-71e0-4795-94a3-7bf5b7fc2b55",
   "metadata": {
    "vscode": {
     "languageId": "r"
    }
   },
   "outputs": [],
   "source": []
  }
 ],
 "metadata": {
  "kernelspec": {
   "display_name": "R",
   "language": "R",
   "name": "ir"
  },
  "language_info": {
   "codemirror_mode": "r",
   "file_extension": ".r",
   "mimetype": "text/x-r-source",
   "name": "R",
   "pygments_lexer": "r",
   "version": "4.2.3"
  }
 },
 "nbformat": 4,
 "nbformat_minor": 5
}
