{
 "cells": [
  {
   "cell_type": "markdown",
   "id": "e6d94ec4-0e60-470b-b2e0-d7ed5f3505f3",
   "metadata": {},
   "source": [
    "<span STYLE=\"font-size:150%\"> \n",
    "    Calculate concentrations from emission data\n",
    "</span>\n",
    "\n",
    "Docker image: gnasello/datascience-env:2023-03-30 \\\n",
    "Latest update: 31 March 2023"
   ]
  },
  {
   "cell_type": "markdown",
   "id": "18782b3e-d301-4b9f-9e65-9597997d1a35",
   "metadata": {},
   "source": [
    "# Load libraries"
   ]
  },
  {
   "cell_type": "code",
   "execution_count": 1,
   "id": "e7be9532-9858-439e-8ac6-4f1a9d70c54b",
   "metadata": {
    "tags": []
   },
   "outputs": [
    {
     "name": "stderr",
     "output_type": "stream",
     "text": [
      "\n",
      "Attaching package: ‘dplyr’\n",
      "\n",
      "\n",
      "The following objects are masked from ‘package:stats’:\n",
      "\n",
      "    filter, lag\n",
      "\n",
      "\n",
      "The following objects are masked from ‘package:base’:\n",
      "\n",
      "    intersect, setdiff, setequal, union\n",
      "\n",
      "\n"
     ]
    }
   ],
   "source": [
    "library(ggplot2)\n",
    "library(latex2exp)\n",
    "library(ggpubr)\n",
    "library(yaml)\n",
    "library(dplyr)"
   ]
  },
  {
   "cell_type": "markdown",
   "id": "3355bd36-2e8d-4349-82db-e9197f4ee6b9",
   "metadata": {},
   "source": [
    "Clone the [r_utils library](https://github.com/gabnasello/r_utils.git) from GitHub in the same folder of this script. \n",
    "\n",
    "You can simply running the following command in a new terminal (open it from JupyterLab):\n",
    "\n",
    "`git clone https://github.com/gabnasello/r_utils.git`\n",
    "\n",
    "How to Reuse Functions That You Create In Scripts, [tutorial](https://www.earthdatascience.org/courses/earth-analytics/multispectral-remote-sensing-data/source-function-in-R/)"
   ]
  },
  {
   "cell_type": "code",
   "execution_count": 2,
   "id": "69df05de-f9c9-428b-b2bd-6e4eb9455efa",
   "metadata": {
    "tags": []
   },
   "outputs": [],
   "source": [
    "source(\"r_utils/ggplot_utils.R\")"
   ]
  },
  {
   "cell_type": "markdown",
   "id": "5b14d2ad-b85c-447d-bac1-93c908c3050c",
   "metadata": {},
   "source": [
    "# Reading data"
   ]
  },
  {
   "cell_type": "markdown",
   "id": "1264af80-ab40-4da5-b5ca-c3b83a871c5f",
   "metadata": {
    "tags": []
   },
   "source": [
    "<span style=\"color:red\">**User Input**</span>"
   ]
  },
  {
   "cell_type": "code",
   "execution_count": 3,
   "id": "c95d1bf8-0efc-4e50-8c67-bec2adebe688",
   "metadata": {
    "tags": []
   },
   "outputs": [],
   "source": [
    "filename <- \"data/2023-03-28_GN011.csv\""
   ]
  },
  {
   "cell_type": "code",
   "execution_count": 4,
   "id": "63632c8d-98d9-4487-b19b-c6f8e3fcd20f",
   "metadata": {
    "tags": []
   },
   "outputs": [
    {
     "data": {
      "text/html": [
       "<table class=\"dataframe\">\n",
       "<caption>A data.frame: 6 × 11</caption>\n",
       "<thead>\n",
       "\t<tr><th></th><th scope=col>Well.ID</th><th scope=col>Name</th><th scope=col>Well</th><th scope=col>Conc.Dil</th><th scope=col>X275480</th><th scope=col>Count</th><th scope=col>Mean</th><th scope=col>Std.Dev</th><th scope=col>CV....</th><th scope=col>Mean_blnk</th><th scope=col>concentration</th></tr>\n",
       "\t<tr><th></th><th scope=col>&lt;chr&gt;</th><th scope=col>&lt;lgl&gt;</th><th scope=col>&lt;chr&gt;</th><th scope=col>&lt;dbl&gt;</th><th scope=col>&lt;int&gt;</th><th scope=col>&lt;int&gt;</th><th scope=col>&lt;int&gt;</th><th scope=col>&lt;chr&gt;</th><th scope=col>&lt;chr&gt;</th><th scope=col>&lt;int&gt;</th><th scope=col>&lt;dbl&gt;</th></tr>\n",
       "</thead>\n",
       "<tbody>\n",
       "\t<tr><th scope=row>1</th><td>BLK </td><td>NA</td><td>H1</td><td>NA</td><td> 4249</td><td>3</td><td> 3395</td><td>777  </td><td>22.888000000000002</td><td>  485</td><td> 1.088247</td></tr>\n",
       "\t<tr><th scope=row>2</th><td>SPL1</td><td>NA</td><td>A1</td><td>NA</td><td>10349</td><td>1</td><td>10349</td><td>?????</td><td>?????             </td><td> 7439</td><td>16.691694</td></tr>\n",
       "\t<tr><th scope=row>3</th><td>SPL2</td><td>NA</td><td>A2</td><td>NA</td><td>22987</td><td>1</td><td>22987</td><td>?????</td><td>?????             </td><td>20077</td><td>45.048950</td></tr>\n",
       "\t<tr><th scope=row>4</th><td>SPL3</td><td>NA</td><td>A3</td><td>NA</td><td> 9415</td><td>1</td><td> 9415</td><td>?????</td><td>?????             </td><td> 6505</td><td>14.595977</td></tr>\n",
       "\t<tr><th scope=row>5</th><td>SPL4</td><td>NA</td><td>A4</td><td>NA</td><td> 8467</td><td>1</td><td> 8467</td><td>?????</td><td>?????             </td><td> 5557</td><td>12.468846</td></tr>\n",
       "\t<tr><th scope=row>6</th><td>SPL5</td><td>NA</td><td>A5</td><td>NA</td><td>13380</td><td>1</td><td>13380</td><td>?????</td><td>?????             </td><td>10470</td><td>23.492679</td></tr>\n",
       "</tbody>\n",
       "</table>\n"
      ],
      "text/latex": [
       "A data.frame: 6 × 11\n",
       "\\begin{tabular}{r|lllllllllll}\n",
       "  & Well.ID & Name & Well & Conc.Dil & X275480 & Count & Mean & Std.Dev & CV.... & Mean\\_blnk & concentration\\\\\n",
       "  & <chr> & <lgl> & <chr> & <dbl> & <int> & <int> & <int> & <chr> & <chr> & <int> & <dbl>\\\\\n",
       "\\hline\n",
       "\t1 & BLK  & NA & H1 & NA &  4249 & 3 &  3395 & 777   & 22.888000000000002 &   485 &  1.088247\\\\\n",
       "\t2 & SPL1 & NA & A1 & NA & 10349 & 1 & 10349 & ????? & ?????              &  7439 & 16.691694\\\\\n",
       "\t3 & SPL2 & NA & A2 & NA & 22987 & 1 & 22987 & ????? & ?????              & 20077 & 45.048950\\\\\n",
       "\t4 & SPL3 & NA & A3 & NA &  9415 & 1 &  9415 & ????? & ?????              &  6505 & 14.595977\\\\\n",
       "\t5 & SPL4 & NA & A4 & NA &  8467 & 1 &  8467 & ????? & ?????              &  5557 & 12.468846\\\\\n",
       "\t6 & SPL5 & NA & A5 & NA & 13380 & 1 & 13380 & ????? & ?????              & 10470 & 23.492679\\\\\n",
       "\\end{tabular}\n"
      ],
      "text/markdown": [
       "\n",
       "A data.frame: 6 × 11\n",
       "\n",
       "| <!--/--> | Well.ID &lt;chr&gt; | Name &lt;lgl&gt; | Well &lt;chr&gt; | Conc.Dil &lt;dbl&gt; | X275480 &lt;int&gt; | Count &lt;int&gt; | Mean &lt;int&gt; | Std.Dev &lt;chr&gt; | CV.... &lt;chr&gt; | Mean_blnk &lt;int&gt; | concentration &lt;dbl&gt; |\n",
       "|---|---|---|---|---|---|---|---|---|---|---|---|\n",
       "| 1 | BLK  | NA | H1 | NA |  4249 | 3 |  3395 | 777   | 22.888000000000002 |   485 |  1.088247 |\n",
       "| 2 | SPL1 | NA | A1 | NA | 10349 | 1 | 10349 | ????? | ?????              |  7439 | 16.691694 |\n",
       "| 3 | SPL2 | NA | A2 | NA | 22987 | 1 | 22987 | ????? | ?????              | 20077 | 45.048950 |\n",
       "| 4 | SPL3 | NA | A3 | NA |  9415 | 1 |  9415 | ????? | ?????              |  6505 | 14.595977 |\n",
       "| 5 | SPL4 | NA | A4 | NA |  8467 | 1 |  8467 | ????? | ?????              |  5557 | 12.468846 |\n",
       "| 6 | SPL5 | NA | A5 | NA | 13380 | 1 | 13380 | ????? | ?????              | 10470 | 23.492679 |\n",
       "\n"
      ],
      "text/plain": [
       "  Well.ID Name Well Conc.Dil X275480 Count Mean  Std.Dev CV....            \n",
       "1 BLK     NA   H1   NA        4249   3      3395 777     22.888000000000002\n",
       "2 SPL1    NA   A1   NA       10349   1     10349 ?????   ?????             \n",
       "3 SPL2    NA   A2   NA       22987   1     22987 ?????   ?????             \n",
       "4 SPL3    NA   A3   NA        9415   1      9415 ?????   ?????             \n",
       "5 SPL4    NA   A4   NA        8467   1      8467 ?????   ?????             \n",
       "6 SPL5    NA   A5   NA       13380   1     13380 ?????   ?????             \n",
       "  Mean_blnk concentration\n",
       "1   485      1.088247    \n",
       "2  7439     16.691694    \n",
       "3 20077     45.048950    \n",
       "4  6505     14.595977    \n",
       "5  5557     12.468846    \n",
       "6 10470     23.492679    "
      ]
     },
     "metadata": {},
     "output_type": "display_data"
    }
   ],
   "source": [
    "# Import the data and look at the first six rows\n",
    "df <- read.csv(file = filename)\n",
    "head(df)"
   ]
  },
  {
   "cell_type": "markdown",
   "id": "38e066b3-7161-4390-b74e-1ef7dae88e59",
   "metadata": {},
   "source": [
    "# Select standard samples"
   ]
  },
  {
   "cell_type": "code",
   "execution_count": 5,
   "id": "8a3dee13-f377-48df-b108-9efda4a0f787",
   "metadata": {
    "tags": []
   },
   "outputs": [],
   "source": [
    "prefix <- 'SPL'"
   ]
  },
  {
   "cell_type": "code",
   "execution_count": 6,
   "id": "ee8d1963-fc8c-4580-ab5e-0bb4bf261252",
   "metadata": {
    "tags": []
   },
   "outputs": [
    {
     "data": {
      "text/html": [
       "<table class=\"dataframe\">\n",
       "<caption>A data.frame: 6 × 11</caption>\n",
       "<thead>\n",
       "\t<tr><th></th><th scope=col>Well.ID</th><th scope=col>Name</th><th scope=col>Well</th><th scope=col>Conc.Dil</th><th scope=col>X275480</th><th scope=col>Count</th><th scope=col>Mean</th><th scope=col>Std.Dev</th><th scope=col>CV....</th><th scope=col>Mean_blnk</th><th scope=col>concentration</th></tr>\n",
       "\t<tr><th></th><th scope=col>&lt;chr&gt;</th><th scope=col>&lt;lgl&gt;</th><th scope=col>&lt;chr&gt;</th><th scope=col>&lt;dbl&gt;</th><th scope=col>&lt;int&gt;</th><th scope=col>&lt;int&gt;</th><th scope=col>&lt;int&gt;</th><th scope=col>&lt;chr&gt;</th><th scope=col>&lt;chr&gt;</th><th scope=col>&lt;int&gt;</th><th scope=col>&lt;dbl&gt;</th></tr>\n",
       "</thead>\n",
       "<tbody>\n",
       "\t<tr><th scope=row>2</th><td>SPL1</td><td>NA</td><td>A1</td><td>NA</td><td>10349</td><td>1</td><td>10349</td><td>?????</td><td>?????</td><td> 7439</td><td>16.69169</td></tr>\n",
       "\t<tr><th scope=row>3</th><td>SPL2</td><td>NA</td><td>A2</td><td>NA</td><td>22987</td><td>1</td><td>22987</td><td>?????</td><td>?????</td><td>20077</td><td>45.04895</td></tr>\n",
       "\t<tr><th scope=row>4</th><td>SPL3</td><td>NA</td><td>A3</td><td>NA</td><td> 9415</td><td>1</td><td> 9415</td><td>?????</td><td>?????</td><td> 6505</td><td>14.59598</td></tr>\n",
       "\t<tr><th scope=row>5</th><td>SPL4</td><td>NA</td><td>A4</td><td>NA</td><td> 8467</td><td>1</td><td> 8467</td><td>?????</td><td>?????</td><td> 5557</td><td>12.46885</td></tr>\n",
       "\t<tr><th scope=row>6</th><td>SPL5</td><td>NA</td><td>A5</td><td>NA</td><td>13380</td><td>1</td><td>13380</td><td>?????</td><td>?????</td><td>10470</td><td>23.49268</td></tr>\n",
       "\t<tr><th scope=row>7</th><td>SPL6</td><td>NA</td><td>A6</td><td>NA</td><td> 8133</td><td>1</td><td> 8133</td><td>?????</td><td>?????</td><td> 5223</td><td>11.71941</td></tr>\n",
       "</tbody>\n",
       "</table>\n"
      ],
      "text/latex": [
       "A data.frame: 6 × 11\n",
       "\\begin{tabular}{r|lllllllllll}\n",
       "  & Well.ID & Name & Well & Conc.Dil & X275480 & Count & Mean & Std.Dev & CV.... & Mean\\_blnk & concentration\\\\\n",
       "  & <chr> & <lgl> & <chr> & <dbl> & <int> & <int> & <int> & <chr> & <chr> & <int> & <dbl>\\\\\n",
       "\\hline\n",
       "\t2 & SPL1 & NA & A1 & NA & 10349 & 1 & 10349 & ????? & ????? &  7439 & 16.69169\\\\\n",
       "\t3 & SPL2 & NA & A2 & NA & 22987 & 1 & 22987 & ????? & ????? & 20077 & 45.04895\\\\\n",
       "\t4 & SPL3 & NA & A3 & NA &  9415 & 1 &  9415 & ????? & ????? &  6505 & 14.59598\\\\\n",
       "\t5 & SPL4 & NA & A4 & NA &  8467 & 1 &  8467 & ????? & ????? &  5557 & 12.46885\\\\\n",
       "\t6 & SPL5 & NA & A5 & NA & 13380 & 1 & 13380 & ????? & ????? & 10470 & 23.49268\\\\\n",
       "\t7 & SPL6 & NA & A6 & NA &  8133 & 1 &  8133 & ????? & ????? &  5223 & 11.71941\\\\\n",
       "\\end{tabular}\n"
      ],
      "text/markdown": [
       "\n",
       "A data.frame: 6 × 11\n",
       "\n",
       "| <!--/--> | Well.ID &lt;chr&gt; | Name &lt;lgl&gt; | Well &lt;chr&gt; | Conc.Dil &lt;dbl&gt; | X275480 &lt;int&gt; | Count &lt;int&gt; | Mean &lt;int&gt; | Std.Dev &lt;chr&gt; | CV.... &lt;chr&gt; | Mean_blnk &lt;int&gt; | concentration &lt;dbl&gt; |\n",
       "|---|---|---|---|---|---|---|---|---|---|---|---|\n",
       "| 2 | SPL1 | NA | A1 | NA | 10349 | 1 | 10349 | ????? | ????? |  7439 | 16.69169 |\n",
       "| 3 | SPL2 | NA | A2 | NA | 22987 | 1 | 22987 | ????? | ????? | 20077 | 45.04895 |\n",
       "| 4 | SPL3 | NA | A3 | NA |  9415 | 1 |  9415 | ????? | ????? |  6505 | 14.59598 |\n",
       "| 5 | SPL4 | NA | A4 | NA |  8467 | 1 |  8467 | ????? | ????? |  5557 | 12.46885 |\n",
       "| 6 | SPL5 | NA | A5 | NA | 13380 | 1 | 13380 | ????? | ????? | 10470 | 23.49268 |\n",
       "| 7 | SPL6 | NA | A6 | NA |  8133 | 1 |  8133 | ????? | ????? |  5223 | 11.71941 |\n",
       "\n"
      ],
      "text/plain": [
       "  Well.ID Name Well Conc.Dil X275480 Count Mean  Std.Dev CV.... Mean_blnk\n",
       "2 SPL1    NA   A1   NA       10349   1     10349 ?????   ?????   7439    \n",
       "3 SPL2    NA   A2   NA       22987   1     22987 ?????   ?????  20077    \n",
       "4 SPL3    NA   A3   NA        9415   1      9415 ?????   ?????   6505    \n",
       "5 SPL4    NA   A4   NA        8467   1      8467 ?????   ?????   5557    \n",
       "6 SPL5    NA   A5   NA       13380   1     13380 ?????   ?????  10470    \n",
       "7 SPL6    NA   A6   NA        8133   1      8133 ?????   ?????   5223    \n",
       "  concentration\n",
       "2 16.69169     \n",
       "3 45.04895     \n",
       "4 14.59598     \n",
       "5 12.46885     \n",
       "6 23.49268     \n",
       "7 11.71941     "
      ]
     },
     "metadata": {},
     "output_type": "display_data"
    }
   ],
   "source": [
    "condition <- startsWith(df$Well.ID, prefix)\n",
    "\n",
    "df_spl <- df[condition,]\n",
    "head(df_spl)"
   ]
  },
  {
   "cell_type": "markdown",
   "id": "5a94e564-a409-4bd3-b5b9-33ba02b548d6",
   "metadata": {},
   "source": [
    "# Calculate concentrations"
   ]
  },
  {
   "cell_type": "markdown",
   "id": "ed0727b7-d648-4383-bd17-d403884063b0",
   "metadata": {},
   "source": [
    "Determine sample dilution"
   ]
  },
  {
   "cell_type": "markdown",
   "id": "070cee00-d4d5-40da-80e8-b66cec40ef9a",
   "metadata": {},
   "source": [
    "<span style=\"color:red\">**User Input**</span>"
   ]
  },
  {
   "cell_type": "code",
   "execution_count": 7,
   "id": "de0074a0-af45-4f8c-90ff-e6e1f7770b70",
   "metadata": {
    "tags": []
   },
   "outputs": [],
   "source": [
    "dilution = 4"
   ]
  },
  {
   "cell_type": "markdown",
   "id": "149c9561-118b-47d0-8357-2b1f264e709e",
   "metadata": {},
   "source": [
    "## Load regression model of the calibration curve"
   ]
  },
  {
   "cell_type": "code",
   "execution_count": 8,
   "id": "15adcf43-9a78-4e1c-ad6b-78332b547f14",
   "metadata": {
    "tags": []
   },
   "outputs": [
    {
     "data": {
      "text/plain": [
       "\n",
       "Call:\n",
       "lm(formula = Conc.Dil ~ Mean_blnk + 0, data = df_std)\n",
       "\n",
       "Coefficients:\n",
       "Mean_blnk  \n",
       " 0.000561  \n"
      ]
     },
     "metadata": {},
     "output_type": "display_data"
    }
   ],
   "source": [
    "model <- readRDS(\"calibration.rds\")\n",
    "model"
   ]
  },
  {
   "cell_type": "markdown",
   "id": "9f6f1b61-003b-467c-8c46-c6e74163c441",
   "metadata": {},
   "source": [
    "## Compute concentrations based on calibration curve"
   ]
  },
  {
   "cell_type": "markdown",
   "id": "efaf743c-1caa-4e4f-90ad-08876c1e9549",
   "metadata": {},
   "source": [
    "Of the samples"
   ]
  },
  {
   "cell_type": "code",
   "execution_count": 9,
   "id": "8a762fb4-870d-43ef-980c-daf1a2ae8fde",
   "metadata": {
    "tags": []
   },
   "outputs": [
    {
     "data": {
      "text/html": [
       "<table class=\"dataframe\">\n",
       "<caption>A data.frame: 6 × 11</caption>\n",
       "<thead>\n",
       "\t<tr><th></th><th scope=col>Well.ID</th><th scope=col>Name</th><th scope=col>Well</th><th scope=col>Conc.Dil</th><th scope=col>X275480</th><th scope=col>Count</th><th scope=col>Mean</th><th scope=col>Std.Dev</th><th scope=col>CV....</th><th scope=col>Mean_blnk</th><th scope=col>concentration</th></tr>\n",
       "\t<tr><th></th><th scope=col>&lt;chr&gt;</th><th scope=col>&lt;lgl&gt;</th><th scope=col>&lt;chr&gt;</th><th scope=col>&lt;dbl&gt;</th><th scope=col>&lt;int&gt;</th><th scope=col>&lt;int&gt;</th><th scope=col>&lt;int&gt;</th><th scope=col>&lt;chr&gt;</th><th scope=col>&lt;chr&gt;</th><th scope=col>&lt;int&gt;</th><th scope=col>&lt;dbl&gt;</th></tr>\n",
       "</thead>\n",
       "<tbody>\n",
       "\t<tr><th scope=row>2</th><td>SPL1</td><td>NA</td><td>A1</td><td>NA</td><td>10349</td><td>1</td><td>10349</td><td>?????</td><td>?????</td><td> 7439</td><td>16.69169</td></tr>\n",
       "\t<tr><th scope=row>3</th><td>SPL2</td><td>NA</td><td>A2</td><td>NA</td><td>22987</td><td>1</td><td>22987</td><td>?????</td><td>?????</td><td>20077</td><td>45.04895</td></tr>\n",
       "\t<tr><th scope=row>4</th><td>SPL3</td><td>NA</td><td>A3</td><td>NA</td><td> 9415</td><td>1</td><td> 9415</td><td>?????</td><td>?????</td><td> 6505</td><td>14.59598</td></tr>\n",
       "\t<tr><th scope=row>5</th><td>SPL4</td><td>NA</td><td>A4</td><td>NA</td><td> 8467</td><td>1</td><td> 8467</td><td>?????</td><td>?????</td><td> 5557</td><td>12.46885</td></tr>\n",
       "\t<tr><th scope=row>6</th><td>SPL5</td><td>NA</td><td>A5</td><td>NA</td><td>13380</td><td>1</td><td>13380</td><td>?????</td><td>?????</td><td>10470</td><td>23.49268</td></tr>\n",
       "\t<tr><th scope=row>7</th><td>SPL6</td><td>NA</td><td>A6</td><td>NA</td><td> 8133</td><td>1</td><td> 8133</td><td>?????</td><td>?????</td><td> 5223</td><td>11.71941</td></tr>\n",
       "</tbody>\n",
       "</table>\n"
      ],
      "text/latex": [
       "A data.frame: 6 × 11\n",
       "\\begin{tabular}{r|lllllllllll}\n",
       "  & Well.ID & Name & Well & Conc.Dil & X275480 & Count & Mean & Std.Dev & CV.... & Mean\\_blnk & concentration\\\\\n",
       "  & <chr> & <lgl> & <chr> & <dbl> & <int> & <int> & <int> & <chr> & <chr> & <int> & <dbl>\\\\\n",
       "\\hline\n",
       "\t2 & SPL1 & NA & A1 & NA & 10349 & 1 & 10349 & ????? & ????? &  7439 & 16.69169\\\\\n",
       "\t3 & SPL2 & NA & A2 & NA & 22987 & 1 & 22987 & ????? & ????? & 20077 & 45.04895\\\\\n",
       "\t4 & SPL3 & NA & A3 & NA &  9415 & 1 &  9415 & ????? & ????? &  6505 & 14.59598\\\\\n",
       "\t5 & SPL4 & NA & A4 & NA &  8467 & 1 &  8467 & ????? & ????? &  5557 & 12.46885\\\\\n",
       "\t6 & SPL5 & NA & A5 & NA & 13380 & 1 & 13380 & ????? & ????? & 10470 & 23.49268\\\\\n",
       "\t7 & SPL6 & NA & A6 & NA &  8133 & 1 &  8133 & ????? & ????? &  5223 & 11.71941\\\\\n",
       "\\end{tabular}\n"
      ],
      "text/markdown": [
       "\n",
       "A data.frame: 6 × 11\n",
       "\n",
       "| <!--/--> | Well.ID &lt;chr&gt; | Name &lt;lgl&gt; | Well &lt;chr&gt; | Conc.Dil &lt;dbl&gt; | X275480 &lt;int&gt; | Count &lt;int&gt; | Mean &lt;int&gt; | Std.Dev &lt;chr&gt; | CV.... &lt;chr&gt; | Mean_blnk &lt;int&gt; | concentration &lt;dbl&gt; |\n",
       "|---|---|---|---|---|---|---|---|---|---|---|---|\n",
       "| 2 | SPL1 | NA | A1 | NA | 10349 | 1 | 10349 | ????? | ????? |  7439 | 16.69169 |\n",
       "| 3 | SPL2 | NA | A2 | NA | 22987 | 1 | 22987 | ????? | ????? | 20077 | 45.04895 |\n",
       "| 4 | SPL3 | NA | A3 | NA |  9415 | 1 |  9415 | ????? | ????? |  6505 | 14.59598 |\n",
       "| 5 | SPL4 | NA | A4 | NA |  8467 | 1 |  8467 | ????? | ????? |  5557 | 12.46885 |\n",
       "| 6 | SPL5 | NA | A5 | NA | 13380 | 1 | 13380 | ????? | ????? | 10470 | 23.49268 |\n",
       "| 7 | SPL6 | NA | A6 | NA |  8133 | 1 |  8133 | ????? | ????? |  5223 | 11.71941 |\n",
       "\n"
      ],
      "text/plain": [
       "  Well.ID Name Well Conc.Dil X275480 Count Mean  Std.Dev CV.... Mean_blnk\n",
       "2 SPL1    NA   A1   NA       10349   1     10349 ?????   ?????   7439    \n",
       "3 SPL2    NA   A2   NA       22987   1     22987 ?????   ?????  20077    \n",
       "4 SPL3    NA   A3   NA        9415   1      9415 ?????   ?????   6505    \n",
       "5 SPL4    NA   A4   NA        8467   1      8467 ?????   ?????   5557    \n",
       "6 SPL5    NA   A5   NA       13380   1     13380 ?????   ?????  10470    \n",
       "7 SPL6    NA   A6   NA        8133   1      8133 ?????   ?????   5223    \n",
       "  concentration\n",
       "2 16.69169     \n",
       "3 45.04895     \n",
       "4 14.59598     \n",
       "5 12.46885     \n",
       "6 23.49268     \n",
       "7 11.71941     "
      ]
     },
     "metadata": {},
     "output_type": "display_data"
    }
   ],
   "source": [
    "sampledata <- df_spl %>% select(Mean_blnk)\n",
    "\n",
    "df_spl$concentration <- predict(model, sampledata) * dilution\n",
    "head(df_spl)"
   ]
  },
  {
   "cell_type": "markdown",
   "id": "53b5d81e-76fb-4504-b9cb-213a30253dce",
   "metadata": {},
   "source": [
    "Of the whole dataset"
   ]
  },
  {
   "cell_type": "code",
   "execution_count": 10,
   "id": "750afc78-5c24-4ee2-b1f5-c2141de2eccb",
   "metadata": {
    "tags": []
   },
   "outputs": [
    {
     "data": {
      "text/html": [
       "<table class=\"dataframe\">\n",
       "<caption>A data.frame: 6 × 11</caption>\n",
       "<thead>\n",
       "\t<tr><th></th><th scope=col>Well.ID</th><th scope=col>Name</th><th scope=col>Well</th><th scope=col>Conc.Dil</th><th scope=col>X275480</th><th scope=col>Count</th><th scope=col>Mean</th><th scope=col>Std.Dev</th><th scope=col>CV....</th><th scope=col>Mean_blnk</th><th scope=col>concentration</th></tr>\n",
       "\t<tr><th></th><th scope=col>&lt;chr&gt;</th><th scope=col>&lt;lgl&gt;</th><th scope=col>&lt;chr&gt;</th><th scope=col>&lt;dbl&gt;</th><th scope=col>&lt;int&gt;</th><th scope=col>&lt;int&gt;</th><th scope=col>&lt;int&gt;</th><th scope=col>&lt;chr&gt;</th><th scope=col>&lt;chr&gt;</th><th scope=col>&lt;int&gt;</th><th scope=col>&lt;dbl&gt;</th></tr>\n",
       "</thead>\n",
       "<tbody>\n",
       "\t<tr><th scope=row>1</th><td>BLK </td><td>NA</td><td>H1</td><td>NA</td><td> 4249</td><td>3</td><td> 3395</td><td>777  </td><td>22.888000000000002</td><td>  485</td><td> 1.088247</td></tr>\n",
       "\t<tr><th scope=row>2</th><td>SPL1</td><td>NA</td><td>A1</td><td>NA</td><td>10349</td><td>1</td><td>10349</td><td>?????</td><td>?????             </td><td> 7439</td><td>16.691694</td></tr>\n",
       "\t<tr><th scope=row>3</th><td>SPL2</td><td>NA</td><td>A2</td><td>NA</td><td>22987</td><td>1</td><td>22987</td><td>?????</td><td>?????             </td><td>20077</td><td>45.048950</td></tr>\n",
       "\t<tr><th scope=row>4</th><td>SPL3</td><td>NA</td><td>A3</td><td>NA</td><td> 9415</td><td>1</td><td> 9415</td><td>?????</td><td>?????             </td><td> 6505</td><td>14.595977</td></tr>\n",
       "\t<tr><th scope=row>5</th><td>SPL4</td><td>NA</td><td>A4</td><td>NA</td><td> 8467</td><td>1</td><td> 8467</td><td>?????</td><td>?????             </td><td> 5557</td><td>12.468846</td></tr>\n",
       "\t<tr><th scope=row>6</th><td>SPL5</td><td>NA</td><td>A5</td><td>NA</td><td>13380</td><td>1</td><td>13380</td><td>?????</td><td>?????             </td><td>10470</td><td>23.492679</td></tr>\n",
       "</tbody>\n",
       "</table>\n"
      ],
      "text/latex": [
       "A data.frame: 6 × 11\n",
       "\\begin{tabular}{r|lllllllllll}\n",
       "  & Well.ID & Name & Well & Conc.Dil & X275480 & Count & Mean & Std.Dev & CV.... & Mean\\_blnk & concentration\\\\\n",
       "  & <chr> & <lgl> & <chr> & <dbl> & <int> & <int> & <int> & <chr> & <chr> & <int> & <dbl>\\\\\n",
       "\\hline\n",
       "\t1 & BLK  & NA & H1 & NA &  4249 & 3 &  3395 & 777   & 22.888000000000002 &   485 &  1.088247\\\\\n",
       "\t2 & SPL1 & NA & A1 & NA & 10349 & 1 & 10349 & ????? & ?????              &  7439 & 16.691694\\\\\n",
       "\t3 & SPL2 & NA & A2 & NA & 22987 & 1 & 22987 & ????? & ?????              & 20077 & 45.048950\\\\\n",
       "\t4 & SPL3 & NA & A3 & NA &  9415 & 1 &  9415 & ????? & ?????              &  6505 & 14.595977\\\\\n",
       "\t5 & SPL4 & NA & A4 & NA &  8467 & 1 &  8467 & ????? & ?????              &  5557 & 12.468846\\\\\n",
       "\t6 & SPL5 & NA & A5 & NA & 13380 & 1 & 13380 & ????? & ?????              & 10470 & 23.492679\\\\\n",
       "\\end{tabular}\n"
      ],
      "text/markdown": [
       "\n",
       "A data.frame: 6 × 11\n",
       "\n",
       "| <!--/--> | Well.ID &lt;chr&gt; | Name &lt;lgl&gt; | Well &lt;chr&gt; | Conc.Dil &lt;dbl&gt; | X275480 &lt;int&gt; | Count &lt;int&gt; | Mean &lt;int&gt; | Std.Dev &lt;chr&gt; | CV.... &lt;chr&gt; | Mean_blnk &lt;int&gt; | concentration &lt;dbl&gt; |\n",
       "|---|---|---|---|---|---|---|---|---|---|---|---|\n",
       "| 1 | BLK  | NA | H1 | NA |  4249 | 3 |  3395 | 777   | 22.888000000000002 |   485 |  1.088247 |\n",
       "| 2 | SPL1 | NA | A1 | NA | 10349 | 1 | 10349 | ????? | ?????              |  7439 | 16.691694 |\n",
       "| 3 | SPL2 | NA | A2 | NA | 22987 | 1 | 22987 | ????? | ?????              | 20077 | 45.048950 |\n",
       "| 4 | SPL3 | NA | A3 | NA |  9415 | 1 |  9415 | ????? | ?????              |  6505 | 14.595977 |\n",
       "| 5 | SPL4 | NA | A4 | NA |  8467 | 1 |  8467 | ????? | ?????              |  5557 | 12.468846 |\n",
       "| 6 | SPL5 | NA | A5 | NA | 13380 | 1 | 13380 | ????? | ?????              | 10470 | 23.492679 |\n",
       "\n"
      ],
      "text/plain": [
       "  Well.ID Name Well Conc.Dil X275480 Count Mean  Std.Dev CV....            \n",
       "1 BLK     NA   H1   NA        4249   3      3395 777     22.888000000000002\n",
       "2 SPL1    NA   A1   NA       10349   1     10349 ?????   ?????             \n",
       "3 SPL2    NA   A2   NA       22987   1     22987 ?????   ?????             \n",
       "4 SPL3    NA   A3   NA        9415   1      9415 ?????   ?????             \n",
       "5 SPL4    NA   A4   NA        8467   1      8467 ?????   ?????             \n",
       "6 SPL5    NA   A5   NA       13380   1     13380 ?????   ?????             \n",
       "  Mean_blnk concentration\n",
       "1   485      1.088247    \n",
       "2  7439     16.691694    \n",
       "3 20077     45.048950    \n",
       "4  6505     14.595977    \n",
       "5  5557     12.468846    \n",
       "6 10470     23.492679    "
      ]
     },
     "metadata": {},
     "output_type": "display_data"
    }
   ],
   "source": [
    "newdata <- df %>% select(Mean_blnk)\n",
    "\n",
    "df$concentration <- predict(model, newdata) * dilution\n",
    "head(df)"
   ]
  },
  {
   "cell_type": "markdown",
   "id": "60a0d119-fd13-4572-8fdf-a02a9df1208f",
   "metadata": {},
   "source": [
    "## Save data"
   ]
  },
  {
   "cell_type": "markdown",
   "id": "de5b1b9f-5e85-444f-b8bd-1b157373a4ef",
   "metadata": {},
   "source": [
    "Overwrite initial dataset after calculating the sample concentration"
   ]
  },
  {
   "cell_type": "code",
   "execution_count": 11,
   "id": "0d69a2bf-be64-4ba2-916c-7e8361e66671",
   "metadata": {
    "tags": []
   },
   "outputs": [],
   "source": [
    "write.csv(df, filename, row.names=FALSE)"
   ]
  },
  {
   "cell_type": "markdown",
   "id": "d7c4a2a2-885b-4100-9165-ff8857686baf",
   "metadata": {},
   "source": [
    "# Calculate amount (percentage) released"
   ]
  },
  {
   "cell_type": "markdown",
   "id": "d78f400a-e910-4721-a7db-76e5b32a50c3",
   "metadata": {},
   "source": [
    "## Get the volume of the released media for each sample tested"
   ]
  },
  {
   "cell_type": "markdown",
   "id": "891c0d71-cbcd-4786-9104-284259aa54f7",
   "metadata": {},
   "source": [
    "Prepare and load the `sample_info.csv` file"
   ]
  },
  {
   "cell_type": "code",
   "execution_count": 12,
   "id": "874d091e-f21d-4a06-bb7d-41133c52aa08",
   "metadata": {
    "tags": []
   },
   "outputs": [],
   "source": [
    "info_file <- \"data/samples_info.csv\""
   ]
  },
  {
   "cell_type": "code",
   "execution_count": 13,
   "id": "4f95df55-9fd8-4f87-b634-d7739bca2e6b",
   "metadata": {
    "tags": []
   },
   "outputs": [
    {
     "data": {
      "text/html": [
       "<table class=\"dataframe\">\n",
       "<caption>A data.frame: 6 × 6</caption>\n",
       "<thead>\n",
       "\t<tr><th></th><th scope=col>Well.ID</th><th scope=col>volume</th><th scope=col>day</th><th scope=col>group</th><th scope=col>Laponite</th><th scope=col>sample</th></tr>\n",
       "\t<tr><th></th><th scope=col>&lt;chr&gt;</th><th scope=col>&lt;dbl&gt;</th><th scope=col>&lt;int&gt;</th><th scope=col>&lt;chr&gt;</th><th scope=col>&lt;int&gt;</th><th scope=col>&lt;int&gt;</th></tr>\n",
       "</thead>\n",
       "<tbody>\n",
       "\t<tr><th scope=row>1</th><td>SPL1</td><td>1.7</td><td>0</td><td>4-AS  </td><td>0</td><td>1</td></tr>\n",
       "\t<tr><th scope=row>2</th><td>SPL2</td><td>1.7</td><td>0</td><td>4-AS  </td><td>0</td><td>2</td></tr>\n",
       "\t<tr><th scope=row>3</th><td>SPL3</td><td>1.7</td><td>0</td><td>4-AS  </td><td>0</td><td>3</td></tr>\n",
       "\t<tr><th scope=row>4</th><td>SPL4</td><td>1.7</td><td>0</td><td>4-AS  </td><td>0</td><td>4</td></tr>\n",
       "\t<tr><th scope=row>5</th><td>SPL5</td><td>1.7</td><td>0</td><td>4-AS-L</td><td>1</td><td>1</td></tr>\n",
       "\t<tr><th scope=row>6</th><td>SPL6</td><td>1.7</td><td>0</td><td>4-AS-L</td><td>1</td><td>2</td></tr>\n",
       "</tbody>\n",
       "</table>\n"
      ],
      "text/latex": [
       "A data.frame: 6 × 6\n",
       "\\begin{tabular}{r|llllll}\n",
       "  & Well.ID & volume & day & group & Laponite & sample\\\\\n",
       "  & <chr> & <dbl> & <int> & <chr> & <int> & <int>\\\\\n",
       "\\hline\n",
       "\t1 & SPL1 & 1.7 & 0 & 4-AS   & 0 & 1\\\\\n",
       "\t2 & SPL2 & 1.7 & 0 & 4-AS   & 0 & 2\\\\\n",
       "\t3 & SPL3 & 1.7 & 0 & 4-AS   & 0 & 3\\\\\n",
       "\t4 & SPL4 & 1.7 & 0 & 4-AS   & 0 & 4\\\\\n",
       "\t5 & SPL5 & 1.7 & 0 & 4-AS-L & 1 & 1\\\\\n",
       "\t6 & SPL6 & 1.7 & 0 & 4-AS-L & 1 & 2\\\\\n",
       "\\end{tabular}\n"
      ],
      "text/markdown": [
       "\n",
       "A data.frame: 6 × 6\n",
       "\n",
       "| <!--/--> | Well.ID &lt;chr&gt; | volume &lt;dbl&gt; | day &lt;int&gt; | group &lt;chr&gt; | Laponite &lt;int&gt; | sample &lt;int&gt; |\n",
       "|---|---|---|---|---|---|---|\n",
       "| 1 | SPL1 | 1.7 | 0 | 4-AS   | 0 | 1 |\n",
       "| 2 | SPL2 | 1.7 | 0 | 4-AS   | 0 | 2 |\n",
       "| 3 | SPL3 | 1.7 | 0 | 4-AS   | 0 | 3 |\n",
       "| 4 | SPL4 | 1.7 | 0 | 4-AS   | 0 | 4 |\n",
       "| 5 | SPL5 | 1.7 | 0 | 4-AS-L | 1 | 1 |\n",
       "| 6 | SPL6 | 1.7 | 0 | 4-AS-L | 1 | 2 |\n",
       "\n"
      ],
      "text/plain": [
       "  Well.ID volume day group  Laponite sample\n",
       "1 SPL1    1.7    0   4-AS   0        1     \n",
       "2 SPL2    1.7    0   4-AS   0        2     \n",
       "3 SPL3    1.7    0   4-AS   0        3     \n",
       "4 SPL4    1.7    0   4-AS   0        4     \n",
       "5 SPL5    1.7    0   4-AS-L 1        1     \n",
       "6 SPL6    1.7    0   4-AS-L 1        2     "
      ]
     },
     "metadata": {},
     "output_type": "display_data"
    }
   ],
   "source": [
    "# Import the data and look at the first six rows\n",
    "df_info <- read.csv(file = info_file)\n",
    "head(df_info)"
   ]
  },
  {
   "cell_type": "markdown",
   "id": "cbe7f4a7-adf0-4692-842c-7cc9b170d8c7",
   "metadata": {},
   "source": [
    "Merge `df` and `df_info` using the sample ID info and droppoing the not sample data in `df` "
   ]
  },
  {
   "cell_type": "code",
   "execution_count": 14,
   "id": "e884121c-3c1e-4270-84b6-521025843973",
   "metadata": {
    "tags": []
   },
   "outputs": [
    {
     "data": {
      "text/html": [
       "<table class=\"dataframe\">\n",
       "<caption>A data.frame: 6 × 16</caption>\n",
       "<thead>\n",
       "\t<tr><th></th><th scope=col>Well.ID</th><th scope=col>Name</th><th scope=col>Well</th><th scope=col>Conc.Dil</th><th scope=col>X275480</th><th scope=col>Count</th><th scope=col>Mean</th><th scope=col>Std.Dev</th><th scope=col>CV....</th><th scope=col>Mean_blnk</th><th scope=col>concentration</th><th scope=col>volume</th><th scope=col>day</th><th scope=col>group</th><th scope=col>Laponite</th><th scope=col>sample</th></tr>\n",
       "\t<tr><th></th><th scope=col>&lt;chr&gt;</th><th scope=col>&lt;lgl&gt;</th><th scope=col>&lt;chr&gt;</th><th scope=col>&lt;dbl&gt;</th><th scope=col>&lt;int&gt;</th><th scope=col>&lt;int&gt;</th><th scope=col>&lt;int&gt;</th><th scope=col>&lt;chr&gt;</th><th scope=col>&lt;chr&gt;</th><th scope=col>&lt;int&gt;</th><th scope=col>&lt;dbl&gt;</th><th scope=col>&lt;dbl&gt;</th><th scope=col>&lt;int&gt;</th><th scope=col>&lt;chr&gt;</th><th scope=col>&lt;int&gt;</th><th scope=col>&lt;int&gt;</th></tr>\n",
       "</thead>\n",
       "<tbody>\n",
       "\t<tr><th scope=row>1</th><td>SPL1</td><td>NA</td><td>A1</td><td>NA</td><td>10349</td><td>1</td><td>10349</td><td>?????</td><td>?????</td><td> 7439</td><td>16.69169</td><td>1.7</td><td>0</td><td>4-AS  </td><td>0</td><td>1</td></tr>\n",
       "\t<tr><th scope=row>2</th><td>SPL2</td><td>NA</td><td>A2</td><td>NA</td><td>22987</td><td>1</td><td>22987</td><td>?????</td><td>?????</td><td>20077</td><td>45.04895</td><td>1.7</td><td>0</td><td>4-AS  </td><td>0</td><td>2</td></tr>\n",
       "\t<tr><th scope=row>3</th><td>SPL3</td><td>NA</td><td>A3</td><td>NA</td><td> 9415</td><td>1</td><td> 9415</td><td>?????</td><td>?????</td><td> 6505</td><td>14.59598</td><td>1.7</td><td>0</td><td>4-AS  </td><td>0</td><td>3</td></tr>\n",
       "\t<tr><th scope=row>4</th><td>SPL4</td><td>NA</td><td>A4</td><td>NA</td><td> 8467</td><td>1</td><td> 8467</td><td>?????</td><td>?????</td><td> 5557</td><td>12.46885</td><td>1.7</td><td>0</td><td>4-AS  </td><td>0</td><td>4</td></tr>\n",
       "\t<tr><th scope=row>5</th><td>SPL5</td><td>NA</td><td>A5</td><td>NA</td><td>13380</td><td>1</td><td>13380</td><td>?????</td><td>?????</td><td>10470</td><td>23.49268</td><td>1.7</td><td>0</td><td>4-AS-L</td><td>1</td><td>1</td></tr>\n",
       "\t<tr><th scope=row>6</th><td>SPL6</td><td>NA</td><td>A6</td><td>NA</td><td> 8133</td><td>1</td><td> 8133</td><td>?????</td><td>?????</td><td> 5223</td><td>11.71941</td><td>1.7</td><td>0</td><td>4-AS-L</td><td>1</td><td>2</td></tr>\n",
       "</tbody>\n",
       "</table>\n"
      ],
      "text/latex": [
       "A data.frame: 6 × 16\n",
       "\\begin{tabular}{r|llllllllllllllll}\n",
       "  & Well.ID & Name & Well & Conc.Dil & X275480 & Count & Mean & Std.Dev & CV.... & Mean\\_blnk & concentration & volume & day & group & Laponite & sample\\\\\n",
       "  & <chr> & <lgl> & <chr> & <dbl> & <int> & <int> & <int> & <chr> & <chr> & <int> & <dbl> & <dbl> & <int> & <chr> & <int> & <int>\\\\\n",
       "\\hline\n",
       "\t1 & SPL1 & NA & A1 & NA & 10349 & 1 & 10349 & ????? & ????? &  7439 & 16.69169 & 1.7 & 0 & 4-AS   & 0 & 1\\\\\n",
       "\t2 & SPL2 & NA & A2 & NA & 22987 & 1 & 22987 & ????? & ????? & 20077 & 45.04895 & 1.7 & 0 & 4-AS   & 0 & 2\\\\\n",
       "\t3 & SPL3 & NA & A3 & NA &  9415 & 1 &  9415 & ????? & ????? &  6505 & 14.59598 & 1.7 & 0 & 4-AS   & 0 & 3\\\\\n",
       "\t4 & SPL4 & NA & A4 & NA &  8467 & 1 &  8467 & ????? & ????? &  5557 & 12.46885 & 1.7 & 0 & 4-AS   & 0 & 4\\\\\n",
       "\t5 & SPL5 & NA & A5 & NA & 13380 & 1 & 13380 & ????? & ????? & 10470 & 23.49268 & 1.7 & 0 & 4-AS-L & 1 & 1\\\\\n",
       "\t6 & SPL6 & NA & A6 & NA &  8133 & 1 &  8133 & ????? & ????? &  5223 & 11.71941 & 1.7 & 0 & 4-AS-L & 1 & 2\\\\\n",
       "\\end{tabular}\n"
      ],
      "text/markdown": [
       "\n",
       "A data.frame: 6 × 16\n",
       "\n",
       "| <!--/--> | Well.ID &lt;chr&gt; | Name &lt;lgl&gt; | Well &lt;chr&gt; | Conc.Dil &lt;dbl&gt; | X275480 &lt;int&gt; | Count &lt;int&gt; | Mean &lt;int&gt; | Std.Dev &lt;chr&gt; | CV.... &lt;chr&gt; | Mean_blnk &lt;int&gt; | concentration &lt;dbl&gt; | volume &lt;dbl&gt; | day &lt;int&gt; | group &lt;chr&gt; | Laponite &lt;int&gt; | sample &lt;int&gt; |\n",
       "|---|---|---|---|---|---|---|---|---|---|---|---|---|---|---|---|---|\n",
       "| 1 | SPL1 | NA | A1 | NA | 10349 | 1 | 10349 | ????? | ????? |  7439 | 16.69169 | 1.7 | 0 | 4-AS   | 0 | 1 |\n",
       "| 2 | SPL2 | NA | A2 | NA | 22987 | 1 | 22987 | ????? | ????? | 20077 | 45.04895 | 1.7 | 0 | 4-AS   | 0 | 2 |\n",
       "| 3 | SPL3 | NA | A3 | NA |  9415 | 1 |  9415 | ????? | ????? |  6505 | 14.59598 | 1.7 | 0 | 4-AS   | 0 | 3 |\n",
       "| 4 | SPL4 | NA | A4 | NA |  8467 | 1 |  8467 | ????? | ????? |  5557 | 12.46885 | 1.7 | 0 | 4-AS   | 0 | 4 |\n",
       "| 5 | SPL5 | NA | A5 | NA | 13380 | 1 | 13380 | ????? | ????? | 10470 | 23.49268 | 1.7 | 0 | 4-AS-L | 1 | 1 |\n",
       "| 6 | SPL6 | NA | A6 | NA |  8133 | 1 |  8133 | ????? | ????? |  5223 | 11.71941 | 1.7 | 0 | 4-AS-L | 1 | 2 |\n",
       "\n"
      ],
      "text/plain": [
       "  Well.ID Name Well Conc.Dil X275480 Count Mean  Std.Dev CV.... Mean_blnk\n",
       "1 SPL1    NA   A1   NA       10349   1     10349 ?????   ?????   7439    \n",
       "2 SPL2    NA   A2   NA       22987   1     22987 ?????   ?????  20077    \n",
       "3 SPL3    NA   A3   NA        9415   1      9415 ?????   ?????   6505    \n",
       "4 SPL4    NA   A4   NA        8467   1      8467 ?????   ?????   5557    \n",
       "5 SPL5    NA   A5   NA       13380   1     13380 ?????   ?????  10470    \n",
       "6 SPL6    NA   A6   NA        8133   1      8133 ?????   ?????   5223    \n",
       "  concentration volume day group  Laponite sample\n",
       "1 16.69169      1.7    0   4-AS   0        1     \n",
       "2 45.04895      1.7    0   4-AS   0        2     \n",
       "3 14.59598      1.7    0   4-AS   0        3     \n",
       "4 12.46885      1.7    0   4-AS   0        4     \n",
       "5 23.49268      1.7    0   4-AS-L 1        1     \n",
       "6 11.71941      1.7    0   4-AS-L 1        2     "
      ]
     },
     "metadata": {},
     "output_type": "display_data"
    }
   ],
   "source": [
    "df_release <- merge(df_spl, df_info, by = \"Well.ID\", \n",
    "                   all.x = FALSE, all.y = FALSE, sort=FALSE)\n",
    "head (df_release)"
   ]
  },
  {
   "cell_type": "markdown",
   "id": "0b431f43-ecbc-48a6-81e2-5738c89d1c31",
   "metadata": {},
   "source": [
    "Alternatively, you can select a volume value equal for all samples by uncommenting the cell below"
   ]
  },
  {
   "cell_type": "code",
   "execution_count": 15,
   "id": "b1c49f6e-d685-4f5e-99f6-ace0767b7ac3",
   "metadata": {
    "tags": []
   },
   "outputs": [],
   "source": [
    "# volume_sample <- 0.450 #mul\n",
    "# df$volume <- volume_sample"
   ]
  },
  {
   "cell_type": "markdown",
   "id": "c2f8a865-648f-4bb6-abc4-f74382c6bd28",
   "metadata": {},
   "source": [
    "## Compute amounts (percentage) released"
   ]
  },
  {
   "cell_type": "markdown",
   "id": "3750569d-3471-460d-b4cf-26bf9fdb856e",
   "metadata": {},
   "source": [
    "<span style=\"color:red\">**User Input**</span>"
   ]
  },
  {
   "cell_type": "code",
   "execution_count": 16,
   "id": "28ea8c2b-298a-47fe-84e1-91616a09b031",
   "metadata": {
    "tags": []
   },
   "outputs": [],
   "source": [
    "drug_amount = 200 #ug"
   ]
  },
  {
   "cell_type": "code",
   "execution_count": 18,
   "id": "1d89b342-87b9-4134-9380-004434d6d47c",
   "metadata": {
    "tags": []
   },
   "outputs": [
    {
     "data": {
      "text/html": [
       "<table class=\"dataframe\">\n",
       "<caption>A data.frame: 6 × 17</caption>\n",
       "<thead>\n",
       "\t<tr><th></th><th scope=col>Well.ID</th><th scope=col>Name</th><th scope=col>Well</th><th scope=col>Conc.Dil</th><th scope=col>X275480</th><th scope=col>Count</th><th scope=col>Mean</th><th scope=col>Std.Dev</th><th scope=col>CV....</th><th scope=col>Mean_blnk</th><th scope=col>concentration</th><th scope=col>volume</th><th scope=col>day</th><th scope=col>group</th><th scope=col>Laponite</th><th scope=col>sample</th><th scope=col>release</th></tr>\n",
       "\t<tr><th></th><th scope=col>&lt;chr&gt;</th><th scope=col>&lt;lgl&gt;</th><th scope=col>&lt;chr&gt;</th><th scope=col>&lt;dbl&gt;</th><th scope=col>&lt;int&gt;</th><th scope=col>&lt;int&gt;</th><th scope=col>&lt;int&gt;</th><th scope=col>&lt;chr&gt;</th><th scope=col>&lt;chr&gt;</th><th scope=col>&lt;int&gt;</th><th scope=col>&lt;dbl&gt;</th><th scope=col>&lt;dbl&gt;</th><th scope=col>&lt;int&gt;</th><th scope=col>&lt;chr&gt;</th><th scope=col>&lt;int&gt;</th><th scope=col>&lt;int&gt;</th><th scope=col>&lt;dbl&gt;</th></tr>\n",
       "</thead>\n",
       "<tbody>\n",
       "\t<tr><th scope=row>1</th><td>SPL1</td><td>NA</td><td>A1</td><td>NA</td><td>10349</td><td>1</td><td>10349</td><td>?????</td><td>?????</td><td> 7439</td><td>16.69169</td><td>1.7</td><td>0</td><td>4-AS  </td><td>0</td><td>1</td><td>14.187940</td></tr>\n",
       "\t<tr><th scope=row>2</th><td>SPL2</td><td>NA</td><td>A2</td><td>NA</td><td>22987</td><td>1</td><td>22987</td><td>?????</td><td>?????</td><td>20077</td><td>45.04895</td><td>1.7</td><td>0</td><td>4-AS  </td><td>0</td><td>2</td><td>38.291608</td></tr>\n",
       "\t<tr><th scope=row>3</th><td>SPL3</td><td>NA</td><td>A3</td><td>NA</td><td> 9415</td><td>1</td><td> 9415</td><td>?????</td><td>?????</td><td> 6505</td><td>14.59598</td><td>1.7</td><td>0</td><td>4-AS  </td><td>0</td><td>3</td><td>12.406580</td></tr>\n",
       "\t<tr><th scope=row>4</th><td>SPL4</td><td>NA</td><td>A4</td><td>NA</td><td> 8467</td><td>1</td><td> 8467</td><td>?????</td><td>?????</td><td> 5557</td><td>12.46885</td><td>1.7</td><td>0</td><td>4-AS  </td><td>0</td><td>4</td><td>10.598519</td></tr>\n",
       "\t<tr><th scope=row>5</th><td>SPL5</td><td>NA</td><td>A5</td><td>NA</td><td>13380</td><td>1</td><td>13380</td><td>?????</td><td>?????</td><td>10470</td><td>23.49268</td><td>1.7</td><td>0</td><td>4-AS-L</td><td>1</td><td>1</td><td>19.968777</td></tr>\n",
       "\t<tr><th scope=row>6</th><td>SPL6</td><td>NA</td><td>A6</td><td>NA</td><td> 8133</td><td>1</td><td> 8133</td><td>?????</td><td>?????</td><td> 5223</td><td>11.71941</td><td>1.7</td><td>0</td><td>4-AS-L</td><td>1</td><td>2</td><td> 9.961502</td></tr>\n",
       "</tbody>\n",
       "</table>\n"
      ],
      "text/latex": [
       "A data.frame: 6 × 17\n",
       "\\begin{tabular}{r|lllllllllllllllll}\n",
       "  & Well.ID & Name & Well & Conc.Dil & X275480 & Count & Mean & Std.Dev & CV.... & Mean\\_blnk & concentration & volume & day & group & Laponite & sample & release\\\\\n",
       "  & <chr> & <lgl> & <chr> & <dbl> & <int> & <int> & <int> & <chr> & <chr> & <int> & <dbl> & <dbl> & <int> & <chr> & <int> & <int> & <dbl>\\\\\n",
       "\\hline\n",
       "\t1 & SPL1 & NA & A1 & NA & 10349 & 1 & 10349 & ????? & ????? &  7439 & 16.69169 & 1.7 & 0 & 4-AS   & 0 & 1 & 14.187940\\\\\n",
       "\t2 & SPL2 & NA & A2 & NA & 22987 & 1 & 22987 & ????? & ????? & 20077 & 45.04895 & 1.7 & 0 & 4-AS   & 0 & 2 & 38.291608\\\\\n",
       "\t3 & SPL3 & NA & A3 & NA &  9415 & 1 &  9415 & ????? & ????? &  6505 & 14.59598 & 1.7 & 0 & 4-AS   & 0 & 3 & 12.406580\\\\\n",
       "\t4 & SPL4 & NA & A4 & NA &  8467 & 1 &  8467 & ????? & ????? &  5557 & 12.46885 & 1.7 & 0 & 4-AS   & 0 & 4 & 10.598519\\\\\n",
       "\t5 & SPL5 & NA & A5 & NA & 13380 & 1 & 13380 & ????? & ????? & 10470 & 23.49268 & 1.7 & 0 & 4-AS-L & 1 & 1 & 19.968777\\\\\n",
       "\t6 & SPL6 & NA & A6 & NA &  8133 & 1 &  8133 & ????? & ????? &  5223 & 11.71941 & 1.7 & 0 & 4-AS-L & 1 & 2 &  9.961502\\\\\n",
       "\\end{tabular}\n"
      ],
      "text/markdown": [
       "\n",
       "A data.frame: 6 × 17\n",
       "\n",
       "| <!--/--> | Well.ID &lt;chr&gt; | Name &lt;lgl&gt; | Well &lt;chr&gt; | Conc.Dil &lt;dbl&gt; | X275480 &lt;int&gt; | Count &lt;int&gt; | Mean &lt;int&gt; | Std.Dev &lt;chr&gt; | CV.... &lt;chr&gt; | Mean_blnk &lt;int&gt; | concentration &lt;dbl&gt; | volume &lt;dbl&gt; | day &lt;int&gt; | group &lt;chr&gt; | Laponite &lt;int&gt; | sample &lt;int&gt; | release &lt;dbl&gt; |\n",
       "|---|---|---|---|---|---|---|---|---|---|---|---|---|---|---|---|---|---|\n",
       "| 1 | SPL1 | NA | A1 | NA | 10349 | 1 | 10349 | ????? | ????? |  7439 | 16.69169 | 1.7 | 0 | 4-AS   | 0 | 1 | 14.187940 |\n",
       "| 2 | SPL2 | NA | A2 | NA | 22987 | 1 | 22987 | ????? | ????? | 20077 | 45.04895 | 1.7 | 0 | 4-AS   | 0 | 2 | 38.291608 |\n",
       "| 3 | SPL3 | NA | A3 | NA |  9415 | 1 |  9415 | ????? | ????? |  6505 | 14.59598 | 1.7 | 0 | 4-AS   | 0 | 3 | 12.406580 |\n",
       "| 4 | SPL4 | NA | A4 | NA |  8467 | 1 |  8467 | ????? | ????? |  5557 | 12.46885 | 1.7 | 0 | 4-AS   | 0 | 4 | 10.598519 |\n",
       "| 5 | SPL5 | NA | A5 | NA | 13380 | 1 | 13380 | ????? | ????? | 10470 | 23.49268 | 1.7 | 0 | 4-AS-L | 1 | 1 | 19.968777 |\n",
       "| 6 | SPL6 | NA | A6 | NA |  8133 | 1 |  8133 | ????? | ????? |  5223 | 11.71941 | 1.7 | 0 | 4-AS-L | 1 | 2 |  9.961502 |\n",
       "\n"
      ],
      "text/plain": [
       "  Well.ID Name Well Conc.Dil X275480 Count Mean  Std.Dev CV.... Mean_blnk\n",
       "1 SPL1    NA   A1   NA       10349   1     10349 ?????   ?????   7439    \n",
       "2 SPL2    NA   A2   NA       22987   1     22987 ?????   ?????  20077    \n",
       "3 SPL3    NA   A3   NA        9415   1      9415 ?????   ?????   6505    \n",
       "4 SPL4    NA   A4   NA        8467   1      8467 ?????   ?????   5557    \n",
       "5 SPL5    NA   A5   NA       13380   1     13380 ?????   ?????  10470    \n",
       "6 SPL6    NA   A6   NA        8133   1      8133 ?????   ?????   5223    \n",
       "  concentration volume day group  Laponite sample release  \n",
       "1 16.69169      1.7    0   4-AS   0        1      14.187940\n",
       "2 45.04895      1.7    0   4-AS   0        2      38.291608\n",
       "3 14.59598      1.7    0   4-AS   0        3      12.406580\n",
       "4 12.46885      1.7    0   4-AS   0        4      10.598519\n",
       "5 23.49268      1.7    0   4-AS-L 1        1      19.968777\n",
       "6 11.71941      1.7    0   4-AS-L 1        2       9.961502"
      ]
     },
     "metadata": {},
     "output_type": "display_data"
    }
   ],
   "source": [
    "df_release$release = df_release$concentration * df_release$volume / drug_amount * 100\n",
    "head(df_release)"
   ]
  },
  {
   "cell_type": "markdown",
   "id": "46e0da0f-92f7-460d-931a-58764bb7b931",
   "metadata": {},
   "source": [
    "## Save data"
   ]
  },
  {
   "cell_type": "markdown",
   "id": "c4cda3f6-85c3-4443-baee-7e22c56d5d30",
   "metadata": {},
   "source": [
    "Overwrite initial dataset after calculating the amount of drug released at each timepoint"
   ]
  },
  {
   "cell_type": "code",
   "execution_count": 19,
   "id": "bf3ccdbe-bcbb-4502-a872-845ed4b9ca85",
   "metadata": {
    "tags": []
   },
   "outputs": [
    {
     "data": {
      "text/html": [
       "'data/2023-03-28_GN011_release.csv'"
      ],
      "text/latex": [
       "'data/2023-03-28\\_GN011\\_release.csv'"
      ],
      "text/markdown": [
       "'data/2023-03-28_GN011_release.csv'"
      ],
      "text/plain": [
       "[1] \"data/2023-03-28_GN011_release.csv\""
      ]
     },
     "metadata": {},
     "output_type": "display_data"
    }
   ],
   "source": [
    "new_filename <- paste(tools::file_path_sans_ext(filename), '_release.csv', sep='')\n",
    "new_filename"
   ]
  },
  {
   "cell_type": "code",
   "execution_count": 20,
   "id": "6678e865-daf4-43ed-b2ee-b7291a3bcc56",
   "metadata": {
    "tags": []
   },
   "outputs": [],
   "source": [
    "write.csv(df_release, new_filename, row.names=FALSE)"
   ]
  },
  {
   "cell_type": "markdown",
   "id": "05375c12-65bf-4f53-8be0-e0493c6c287d",
   "metadata": {},
   "source": [
    "# Info on units"
   ]
  },
  {
   "cell_type": "markdown",
   "id": "fc9e3910-a48b-4508-b8c1-8e04b7860a38",
   "metadata": {},
   "source": [
    "If the concentration of the standard samples used to build the calibration curve is in *ug/ml*, then:\n",
    "\n",
    "1. `df$concentration` is also in  ug/ml\n",
    "2. `df$volume` must be in ml\n",
    "3. `df$release` is in % of the total drug loaded into the gel"
   ]
  },
  {
   "cell_type": "code",
   "execution_count": null,
   "id": "0320b02e-71e0-4795-94a3-7bf5b7fc2b55",
   "metadata": {},
   "outputs": [],
   "source": []
  }
 ],
 "metadata": {
  "kernelspec": {
   "display_name": "R",
   "language": "R",
   "name": "ir"
  },
  "language_info": {
   "codemirror_mode": "r",
   "file_extension": ".r",
   "mimetype": "text/x-r-source",
   "name": "R",
   "pygments_lexer": "r",
   "version": "4.2.3"
  }
 },
 "nbformat": 4,
 "nbformat_minor": 5
}
